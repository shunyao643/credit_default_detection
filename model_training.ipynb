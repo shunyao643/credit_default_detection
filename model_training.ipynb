{
 "cells": [
  {
   "cell_type": "markdown",
   "source": [
    "# Imports and Dependencies"
   ],
   "metadata": {
    "collapsed": false,
    "pycharm": {
     "name": "#%% md\n"
    }
   }
  },
  {
   "cell_type": "code",
   "execution_count": 1,
   "metadata": {
    "collapsed": true,
    "pycharm": {
     "name": "#%%\n"
    }
   },
   "outputs": [],
   "source": [
    "import pandas as pd\n",
    "import os\n",
    "import matplotlib.pyplot as plt\n",
    "import sklearn\n",
    "\n",
    "from sklearn.model_selection import GridSearchCV, train_test_split, RandomizedSearchCV\n",
    "from sklearn.metrics import make_scorer\n",
    "\n",
    "from sklearn.linear_model import LogisticRegression\n",
    "from sklearn.ensemble import RandomForestClassifier\n",
    "import xgboost as xgb\n",
    "from sklearn.naive_bayes import GaussianNB\n",
    "from sklearn.tree import DecisionTreeClassifier\n",
    "from sklearn import svm\n",
    "import tensorflow\n",
    "\n",
    "from helper_functions import custom_metric, calculate_metrics"
   ]
  },
  {
   "cell_type": "code",
   "execution_count": 2,
   "outputs": [],
   "source": [
    "# Folder containing the CSV files\n",
    "folder_path = 'split_data/'\n",
    "\n",
    "# Access the loaded DataFrames\n",
    "X_ND_train = pd.read_csv(os.path.join(folder_path, \"X_ND_train.csv\"))\n",
    "X_DD_train = pd.read_csv(os.path.join(folder_path, \"X_DD_train.csv\"))\n",
    "X_ND_val = pd.read_csv(os.path.join(folder_path, \"X_ND_val.csv\"))\n",
    "X_DD_val = pd.read_csv(os.path.join(folder_path, \"X_DD_val.csv\"))\n",
    "y_train = pd.read_csv(os.path.join(folder_path, \"y_train.csv\")).squeeze(\"columns\")\n",
    "y_val = pd.read_csv(os.path.join(folder_path, \"y_val.csv\")).squeeze(\"columns\")"
   ],
   "metadata": {
    "collapsed": false,
    "pycharm": {
     "name": "#%%\n"
    }
   }
  },
  {
   "cell_type": "code",
   "execution_count": 3,
   "outputs": [],
   "source": [
    "custom_scorer = make_scorer(custom_metric, greater_is_better=True, custom_weight=0.7)"
   ],
   "metadata": {
    "collapsed": false,
    "pycharm": {
     "name": "#%%\n"
    }
   }
  },
  {
   "cell_type": "code",
   "execution_count": 4,
   "outputs": [],
   "source": [
    "dd_results = {}\n",
    "nd_results = {}"
   ],
   "metadata": {
    "collapsed": false,
    "pycharm": {
     "name": "#%%\n"
    }
   }
  },
  {
   "cell_type": "markdown",
   "source": [
    "# Logistic Regression"
   ],
   "metadata": {
    "collapsed": false,
    "pycharm": {
     "name": "#%% md\n"
    }
   }
  },
  {
   "cell_type": "code",
   "execution_count": 5,
   "outputs": [
    {
     "name": "stdout",
     "output_type": "stream",
     "text": [
      "{'Accuracy': 0.58348725526413, 'Precision': 0.5727310401989225, 'Recall': 0.5303146584804298, 'Score': 0.5430395729959776}\n",
      "535 ms ± 0 ns per loop (mean ± std. dev. of 1 run, 1 loop each)\n"
     ]
    }
   ],
   "source": [
    "%%timeit -n 1 -r 1\n",
    "# Discriminatory Data\n",
    "\n",
    "logreg_dd = LogisticRegression(random_state=0, max_iter=500).fit(X_DD_train, y_train)\n",
    "logreg_dd_val_pred = logreg_dd.predict(X_DD_val)\n",
    "dd_results[\"Logistic Regression\"] = calculate_metrics(y_val, logreg_dd_val_pred)"
   ],
   "metadata": {
    "collapsed": false,
    "pycharm": {
     "name": "#%%\n"
    }
   }
  },
  {
   "cell_type": "code",
   "execution_count": 7,
   "outputs": [
    {
     "name": "stdout",
     "output_type": "stream",
     "text": [
      "{'Accuracy': 0.5792390099741411, 'Precision': 0.5726950354609929, 'Recall': 0.4957789716039908, 'Score': 0.5188537907610915}\n",
      "156 ms ± 0 ns per loop (mean ± std. dev. of 1 run, 1 loop each)\n"
     ]
    }
   ],
   "source": [
    "%%timeit -n 1 -r 1\n",
    "# Non Discriminatory Data\n",
    "\n",
    "logreg_nd = LogisticRegression(random_state=0, max_iter=500).fit(X_ND_train, y_train)\n",
    "logreg_nd_val_pred = logreg_nd.predict(X_ND_val)\n",
    "nd_results[\"Logistic Regression\"] = calculate_metrics(y_val, logreg_nd_val_pred)"
   ],
   "metadata": {
    "collapsed": false,
    "pycharm": {
     "name": "#%%\n"
    }
   }
  },
  {
   "cell_type": "markdown",
   "source": [
    "# Random Forest"
   ],
   "metadata": {
    "collapsed": false,
    "pycharm": {
     "name": "#%% md\n"
    }
   }
  },
  {
   "cell_type": "code",
   "execution_count": 8,
   "outputs": [
    {
     "name": "stdout",
     "output_type": "stream",
     "text": [
      "Best Hyperparameters: {'max_depth': None, 'min_samples_leaf': 2, 'min_samples_split': 2, 'n_estimators': 100}\n",
      "{'Accuracy': 0.6200591060214259, 'Precision': 0.6116307442049613, 'Recall': 0.5771297006907138, 'Score': 0.587480013744988}\n",
      "1min 10s ± 0 ns per loop (mean ± std. dev. of 1 run, 1 loop each)\n"
     ]
    }
   ],
   "source": [
    "%%timeit -n 1 -r 1\n",
    "# Discriminatory Data\n",
    "\n",
    "# Define the parameter grid for grid search\n",
    "randomforest_dd_param_grid = {\n",
    "    'n_estimators': [10, 33, 66, 100],\n",
    "    'max_depth': [None, 5, 8],\n",
    "    'min_samples_split': [2, 5, 10],\n",
    "    'min_samples_leaf': [1, 2, 4]\n",
    "}\n",
    "\n",
    "# Create the GridSearchCV object\n",
    "randomforest_dd_grid_search = GridSearchCV(estimator=RandomForestClassifier(random_state=42),\n",
    "                                           param_grid=randomforest_dd_param_grid, cv=5, n_jobs=-1,\n",
    "                                           scoring=custom_scorer)\n",
    "randomforest_dd_grid_search.fit(X_DD_train, y_train)\n",
    "\n",
    "# Best model and estimator\n",
    "randomforest_dd = randomforest_dd_grid_search.best_estimator_\n",
    "print(f\"Best Hyperparameters: {randomforest_dd_grid_search.best_params_}\")\n",
    "\n",
    "randomforest_dd_val_pred = randomforest_dd.predict(X_DD_val)\n",
    "dd_results['Random Forest'] = calculate_metrics(y_val, randomforest_dd_val_pred)"
   ],
   "metadata": {
    "collapsed": false,
    "pycharm": {
     "name": "#%%\n"
    }
   }
  },
  {
   "cell_type": "code",
   "execution_count": 9,
   "outputs": [
    {
     "name": "stdout",
     "output_type": "stream",
     "text": [
      "Best Hyperparameters: {'max_depth': 8, 'min_samples_leaf': 2, 'min_samples_split': 5, 'n_estimators': 10}\n",
      "{'Accuracy': 0.59235315847802, 'Precision': 0.5783889980353635, 'Recall': 0.5648503453568687, 'Score': 0.5689119411604172}\n",
      "40.2 s ± 0 ns per loop (mean ± std. dev. of 1 run, 1 loop each)\n"
     ]
    }
   ],
   "source": [
    "%%timeit -n 1 -r 1\n",
    "# Non Discriminatory Data\n",
    "\n",
    "# Define the parameter grid for grid search\n",
    "randomforest_nd_param_grid = {\n",
    "    'n_estimators': [10, 30, 50, 80],\n",
    "    'max_depth': [None, 5, 8],\n",
    "    'min_samples_split': [2, 5, 10],\n",
    "    'min_samples_leaf': [1, 2, 4]\n",
    "}\n",
    "\n",
    "# Create the GridSearchCV object\n",
    "randomforest_nd_grid_search = GridSearchCV(estimator=RandomForestClassifier(random_state=42),\n",
    "                                           param_grid=randomforest_nd_param_grid, cv=5, n_jobs=-1,\n",
    "                                           scoring=custom_scorer)\n",
    "randomforest_nd_grid_search.fit(X_ND_train, y_train)\n",
    "\n",
    "# Best model and estimator\n",
    "randomforest_nd = randomforest_nd_grid_search.best_estimator_\n",
    "print(f\"Best Hyperparameters: {randomforest_nd_grid_search.best_params_}\")\n",
    "\n",
    "randomforest_nd_val_pred = randomforest_nd.predict(X_ND_val)\n",
    "nd_results['Random Forest'] = calculate_metrics(y_val, randomforest_nd_val_pred)"
   ],
   "metadata": {
    "collapsed": false,
    "pycharm": {
     "name": "#%%\n"
    }
   }
  },
  {
   "cell_type": "markdown",
   "source": [
    "# Naive Bayes"
   ],
   "metadata": {
    "collapsed": false,
    "pycharm": {
     "name": "#%% md\n"
    }
   }
  },
  {
   "cell_type": "code",
   "execution_count": 10,
   "outputs": [
    {
     "name": "stdout",
     "output_type": "stream",
     "text": [
      "Best Hyperparameters: {'priors': None, 'var_smoothing': 1e-09}\n",
      "{'Accuracy': 0.5775766531215367, 'Precision': 0.5480277024992473, 'Recall': 0.6983883346124329, 'Score': 0.6532801449784772}\n",
      "555 ms ± 0 ns per loop (mean ± std. dev. of 1 run, 1 loop each)\n"
     ]
    }
   ],
   "source": [
    "%%timeit -n 1 -r 1\n",
    "# Discriminatory Data\n",
    "\n",
    "# Define the parameter grid for hyperparameter tuning\n",
    "naivebayes_dd_param_grid = {\n",
    "    'priors': [None, [0.5, 0.5], [0.3, 0.7], [0.7, 0.3]],  # Vary the prior probabilities\n",
    "    'var_smoothing': [1e-9, 1e-8, 1e-7, 1e-5]  # Vary the smoothing parameter\n",
    "}\n",
    "\n",
    "# Perform grid search using cross-validation\n",
    "naivebayes_dd_grid_search = GridSearchCV(estimator=GaussianNB(), param_grid=naivebayes_dd_param_grid, cv=5, n_jobs=-1)\n",
    "naivebayes_dd_grid_search.fit(X_DD_train, y_train)\n",
    "\n",
    "# Get the best hyperparameters and model\n",
    "naivebayes_dd = naivebayes_dd_grid_search.best_estimator_\n",
    "print(f\"Best Hyperparameters: {naivebayes_dd_grid_search.best_params_}\")\n",
    "\n",
    "naivebayes_dd_val_pred = naivebayes_dd.predict(X_DD_val)\n",
    "dd_results['Naive Bayes'] = calculate_metrics(y_val, naivebayes_dd_val_pred)"
   ],
   "metadata": {
    "collapsed": false,
    "pycharm": {
     "name": "#%%\n"
    }
   }
  },
  {
   "cell_type": "code",
   "execution_count": 11,
   "outputs": [
    {
     "name": "stdout",
     "output_type": "stream",
     "text": [
      "Best Hyperparameters: {'priors': None, 'var_smoothing': 1e-08}\n",
      "{'Accuracy': 0.5387883265607684, 'Precision': 0.5144294413555732, 'Recall': 0.7455871066768994, 'Score': 0.6762398070805016}\n",
      "486 ms ± 0 ns per loop (mean ± std. dev. of 1 run, 1 loop each)\n"
     ]
    }
   ],
   "source": [
    "%%timeit -n 1 -r 1\n",
    "# Non Discriminatory Data\n",
    "\n",
    "# Define the parameter grid for hyperparameter tuning\n",
    "naivebayes_nd_param_grid = {\n",
    "    'priors': [None, [0.5, 0.5], [0.3, 0.7], [0.7, 0.3]],  # Vary the prior probabilities\n",
    "    'var_smoothing': [1e-9, 1e-8, 1e-7, 1e-5]  # Vary the smoothing parameter\n",
    "}\n",
    "\n",
    "# Perform grid search using cross-validation\n",
    "naivebayes_nd_grid_search = GridSearchCV(estimator=GaussianNB(), param_grid=naivebayes_nd_param_grid, cv=5, n_jobs=-1)\n",
    "naivebayes_nd_grid_search.fit(X_ND_train, y_train)\n",
    "\n",
    "# Get the best hyperparameters and model\n",
    "naivebayes_nd = naivebayes_nd_grid_search.best_estimator_\n",
    "print(f\"Best Hyperparameters: {naivebayes_nd_grid_search.best_params_}\")\n",
    "\n",
    "naivebayes_nd_val_pred = naivebayes_nd.predict(X_ND_val)\n",
    "nd_results['Naive Bayes'] = calculate_metrics(y_val, naivebayes_nd_val_pred)"
   ],
   "metadata": {
    "collapsed": false,
    "pycharm": {
     "name": "#%%\n"
    }
   }
  },
  {
   "cell_type": "markdown",
   "source": [
    "# Decision Tree"
   ],
   "metadata": {
    "collapsed": false,
    "pycharm": {
     "name": "#%% md\n"
    }
   }
  },
  {
   "cell_type": "code",
   "execution_count": 12,
   "outputs": [
    {
     "name": "stdout",
     "output_type": "stream",
     "text": [
      "Best Hyperparameters: {'criterion': 'entropy', 'max_depth': 5, 'min_samples_leaf': 1, 'min_samples_split': 2}\n",
      "{'Accuracy': 0.5925378647949759, 'Precision': 0.5664451827242525, 'Recall': 0.6542594013814275, 'Score': 0.6279151357842749}\n",
      "10.7 s ± 0 ns per loop (mean ± std. dev. of 1 run, 1 loop each)\n"
     ]
    }
   ],
   "source": [
    "%%timeit -n 1 -r 1\n",
    "# Discriminatory Data\n",
    "\n",
    "# Define the parameter grid for hyperparameter tuning\n",
    "decisiontree_dd_param_grid = {\n",
    "    'criterion': ['gini', 'entropy'],  # Criterion for splitting\n",
    "    'max_depth': [None, 5, 10, 15],  # Maximum depth of the tree\n",
    "    'min_samples_split': [2, 5, 10],  # Minimum number of samples required to split a node\n",
    "    'min_samples_leaf': [1, 2, 4]  # Minimum number of samples required at each leaf node\n",
    "}\n",
    "\n",
    "# Perform grid search using cross-validation\n",
    "decisiontree_dd_grid_search = GridSearchCV(estimator=DecisionTreeClassifier(random_state=5),\n",
    "                                           param_grid=decisiontree_dd_param_grid, cv=5, n_jobs=-1)\n",
    "decisiontree_dd_grid_search.fit(X_DD_train, y_train)\n",
    "\n",
    "# Best model and estimator\n",
    "decisiontree_dd = decisiontree_dd_grid_search.best_estimator_\n",
    "print(f\"Best Hyperparameters: {decisiontree_dd_grid_search.best_params_}\")\n",
    "\n",
    "decisiontree_dd_val_pred = decisiontree_dd.predict(X_DD_val)\n",
    "dd_results['Decision Tree'] = calculate_metrics(y_val, decisiontree_dd_val_pred)"
   ],
   "metadata": {
    "collapsed": false,
    "pycharm": {
     "name": "#%%\n"
    }
   }
  },
  {
   "cell_type": "code",
   "execution_count": null,
   "outputs": [],
   "source": [
    "%%timeit -n 1 -r 1\n",
    "# Non Discriminatory Data\n",
    "\n",
    "# Define the parameter grid for hyperparameter tuning\n",
    "decisiontree_nd_param_grid = {\n",
    "    'criterion': ['gini', 'entropy'],  # Criterion for splitting\n",
    "    'max_depth': [None, 5, 10, 15],  # Maximum depth of the tree\n",
    "    'min_samples_split': [2, 5, 10],  # Minimum number of samples required to split a node\n",
    "    'min_samples_leaf': [1, 2, 4]  # Minimum number of samples required at each leaf node\n",
    "}\n",
    "\n",
    "# Perform grid search using cross-validation\n",
    "decisiontree_nd_grid_search = GridSearchCV(estimator=DecisionTreeClassifier(random_state=5),\n",
    "                                           param_grid=decisiontree_nd_param_grid, cv=5, n_jobs=-1)\n",
    "decisiontree_nd_grid_search.fit(X_ND_train, y_train)\n",
    "\n",
    "# Best model and estimator\n",
    "decisiontree_nd = decisiontree_nd_grid_search.best_estimator_\n",
    "print(f\"Best Hyperparameters: {decisiontree_nd_grid_search.best_params_}\")\n",
    "\n",
    "decisiontree_nd_val_pred = decisiontree_nd.predict(X_ND_val)\n",
    "nd_results['Decision Tree'] = calculate_results(y_val, decisiontree_nd_val_pred)"
   ],
   "metadata": {
    "collapsed": false,
    "pycharm": {
     "name": "#%%\n"
    }
   }
  },
  {
   "cell_type": "code",
   "execution_count": null,
   "outputs": [],
   "source": [],
   "metadata": {
    "collapsed": false,
    "pycharm": {
     "name": "#%%\n"
    }
   }
  },
  {
   "cell_type": "markdown",
   "source": [
    "# Results"
   ],
   "metadata": {
    "collapsed": false,
    "pycharm": {
     "name": "#%% md\n"
    }
   }
  },
  {
   "cell_type": "code",
   "execution_count": null,
   "outputs": [],
   "source": [
    "pd.DataFrame(dd_results)"
   ],
   "metadata": {
    "collapsed": false,
    "pycharm": {
     "name": "#%%\n"
    }
   }
  },
  {
   "cell_type": "code",
   "execution_count": null,
   "outputs": [],
   "source": [
    "pd.DataFrame(nd_results)"
   ],
   "metadata": {
    "collapsed": false,
    "pycharm": {
     "name": "#%%\n"
    }
   }
  },
  {
   "cell_type": "code",
   "execution_count": null,
   "outputs": [],
   "source": [],
   "metadata": {
    "collapsed": false,
    "pycharm": {
     "name": "#%%\n"
    }
   }
  }
 ],
 "metadata": {
  "kernelspec": {
   "display_name": "Python 3",
   "language": "python",
   "name": "python3"
  },
  "language_info": {
   "codemirror_mode": {
    "name": "ipython",
    "version": 2
   },
   "file_extension": ".py",
   "mimetype": "text/x-python",
   "name": "python",
   "nbconvert_exporter": "python",
   "pygments_lexer": "ipython2",
   "version": "2.7.6"
  }
 },
 "nbformat": 4,
 "nbformat_minor": 0
}