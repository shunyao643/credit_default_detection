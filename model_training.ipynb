{
 "cells": [
  {
   "cell_type": "markdown",
   "source": [
    "# Imports and Dependencies"
   ],
   "metadata": {
    "collapsed": false,
    "pycharm": {
     "name": "#%% md\n"
    }
   }
  },
  {
   "cell_type": "code",
   "execution_count": 1,
   "metadata": {
    "collapsed": true,
    "pycharm": {
     "name": "#%%\n"
    }
   },
   "outputs": [],
   "source": [
    "import pandas as pd\n",
    "import os\n",
    "import matplotlib.pyplot as plt\n",
    "\n",
    "from sklearn.model_selection import GridSearchCV, train_test_split, RandomizedSearchCV\n",
    "from sklearn.metrics import make_scorer\n",
    "\n",
    "from sklearn.linear_model import LogisticRegression\n",
    "from sklearn.ensemble import RandomForestClassifier\n",
    "import xgboost as xgb\n",
    "from sklearn.naive_bayes import GaussianNB\n",
    "from sklearn.tree import DecisionTreeClassifier\n",
    "from sklearn import svm\n",
    "import tensorflow\n",
    "\n",
    "from helper_functions import custom_metric, calculate_results"
   ]
  },
  {
   "cell_type": "code",
   "execution_count": 2,
   "outputs": [],
   "source": [
    "# Folder containing the CSV files\n",
    "folder_path = 'split_data/'\n",
    "\n",
    "# Access the loaded DataFrames\n",
    "X_ND_train = pd.read_csv(os.path.join(folder_path, \"X_ND_train.csv\"))\n",
    "X_DD_train = pd.read_csv(os.path.join(folder_path, \"X_DD_train.csv\"))\n",
    "X_ND_val = pd.read_csv(os.path.join(folder_path, \"X_ND_val.csv\"))\n",
    "X_DD_val = pd.read_csv(os.path.join(folder_path, \"X_DD_val.csv\"))\n",
    "y_train = pd.read_csv(os.path.join(folder_path, \"y_train.csv\")).squeeze(\"columns\")\n",
    "y_val = pd.read_csv(os.path.join(folder_path, \"y_val.csv\")).squeeze(\"columns\")"
   ],
   "metadata": {
    "collapsed": false,
    "pycharm": {
     "name": "#%%\n"
    }
   }
  },
  {
   "cell_type": "code",
   "execution_count": 3,
   "outputs": [],
   "source": [
    "custom_scorer = make_scorer(custom_metric, greater_is_better=True, custom_weight = 0.7)"
   ],
   "metadata": {
    "collapsed": false,
    "pycharm": {
     "name": "#%%\n"
    }
   }
  },
  {
   "cell_type": "code",
   "execution_count": 6,
   "outputs": [],
   "source": [
    "dd_results = {}\n",
    "nd_results = {}"
   ],
   "metadata": {
    "collapsed": false,
    "pycharm": {
     "name": "#%%\n"
    }
   }
  },
  {
   "cell_type": "markdown",
   "source": [
    "# Logistic Regression"
   ],
   "metadata": {
    "collapsed": false,
    "pycharm": {
     "name": "#%% md\n"
    }
   }
  },
  {
   "cell_type": "code",
   "execution_count": 7,
   "outputs": [
    {
     "name": "stdout",
     "output_type": "stream",
     "text": [
      "{'Accuracy': 0.58348725526413, 'Precision': 0.5727310401989225, 'Recall': 0.5303146584804298, 'Score': 0.5430395729959776}\n"
     ]
    }
   ],
   "source": [
    "# Discriminatory Data\n",
    "\n",
    "logreg_dd = LogisticRegression(random_state = 0, max_iter=500).fit(X_DD_train, y_train)\n",
    "logreg_dd_val_pred = logreg_dd.predict(X_DD_val)\n",
    "dd_results[\"Logistic Regression\"] = calculate_results(y_val, logreg_dd_val_pred)"
   ],
   "metadata": {
    "collapsed": false,
    "pycharm": {
     "name": "#%%\n"
    }
   }
  },
  {
   "cell_type": "code",
   "execution_count": 9,
   "outputs": [
    {
     "name": "stdout",
     "output_type": "stream",
     "text": [
      "{'Accuracy': 0.5792390099741411, 'Precision': 0.5726950354609929, 'Recall': 0.4957789716039908, 'Score': 0.5188537907610915}\n"
     ]
    }
   ],
   "source": [
    "# Non Discriminatory Data\n",
    "\n",
    "logreg_nd = LogisticRegression(random_state = 0, max_iter=500).fit(X_ND_train, y_train)\n",
    "logreg_nd_val_pred = logreg_nd.predict(X_ND_val)\n",
    "nd_results[\"Logistic Regression\"] = calculate_results(y_val, logreg_nd_val_pred)"
   ],
   "metadata": {
    "collapsed": false,
    "pycharm": {
     "name": "#%%\n"
    }
   }
  },
  {
   "cell_type": "markdown",
   "source": [
    "# Random Forest"
   ],
   "metadata": {
    "collapsed": false,
    "pycharm": {
     "name": "#%% md\n"
    }
   }
  },
  {
   "cell_type": "code",
   "execution_count": 39,
   "outputs": [
    {
     "name": "stdout",
     "output_type": "stream",
     "text": [
      "Best Hyperparameters: {'max_depth': None, 'min_samples_leaf': 2, 'min_samples_split': 2, 'n_estimators': 100}\n",
      "{'Accuracy': 0.6200591060214259, 'Precision': 0.6116307442049613, 'Recall': 0.5771297006907138, 'Score': 0.587480013744988}\n"
     ]
    }
   ],
   "source": [
    "# Discriminatory Data\n",
    "\n",
    "# Define the parameter grid for grid search\n",
    "param_grid = {\n",
    "    'n_estimators': [10, 50, 100],\n",
    "    'max_depth': [None, 5, 8],\n",
    "    'min_samples_split': [2, 5, 10],\n",
    "    'min_samples_leaf': [1, 2, 4]\n",
    "}\n",
    "\n",
    "# Create the GridSearchCV object\n",
    "randomforest_dd_grid_search = GridSearchCV(estimator=RandomForestClassifier(random_state=42), param_grid=param_grid, cv=5, n_jobs=-1, scoring=custom_scorer)\n",
    "randomforest_dd_grid_search.fit(X_DD_train, y_train)\n",
    "\n",
    "# Best model and estimator\n",
    "randomforest_dd = randomforest_dd_grid_search.best_estimator_\n",
    "print(f\"Best Hyperparameters: {randomforest_dd_grid_search.best_params_}\")\n",
    "\n",
    "randomforest_dd_val_pred = randomforest_dd.predict(X_DD_val)\n",
    "dd_results['Random Forest'] = calculate_results(y_val, randomforest_dd_val_pred)"
   ],
   "metadata": {
    "collapsed": false,
    "pycharm": {
     "name": "#%%\n"
    }
   }
  },
  {
   "cell_type": "code",
   "execution_count": 40,
   "outputs": [
    {
     "name": "stdout",
     "output_type": "stream",
     "text": [
      "Best Hyperparameters: {'max_depth': 8, 'min_samples_leaf': 2, 'min_samples_split': 5, 'n_estimators': 10}\n",
      "{'Accuracy': 0.59235315847802, 'Precision': 0.5783889980353635, 'Recall': 0.5648503453568687, 'Score': 0.5689119411604172}\n"
     ]
    }
   ],
   "source": [
    "# Non Discriminatory Data\n",
    "\n",
    "# Define the parameter grid for grid search\n",
    "param_grid = {\n",
    "    'n_estimators': [10, 50, 100],\n",
    "    'max_depth': [None, 5, 8],\n",
    "    'min_samples_split': [2, 5, 10],\n",
    "    'min_samples_leaf': [1, 2, 4]\n",
    "}\n",
    "\n",
    "# Create the GridSearchCV object\n",
    "randomforest_nd_grid_search = GridSearchCV(estimator=RandomForestClassifier(random_state=42), param_grid=param_grid, cv=5, n_jobs=-1, scoring=custom_scorer)\n",
    "randomforest_nd_grid_search.fit(X_ND_train, y_train)\n",
    "\n",
    "# Best model and estimator\n",
    "randomforest_nd = randomforest_nd_grid_search.best_estimator_\n",
    "print(f\"Best Hyperparameters: {randomforest_nd_grid_search.best_params_}\")\n",
    "\n",
    "randomforest_nd_val_pred = randomforest_nd.predict(X_ND_val)\n",
    "nd_results['Random Forest'] = calculate_results(y_val, randomforest_nd_val_pred)"
   ],
   "metadata": {
    "collapsed": false,
    "pycharm": {
     "name": "#%%\n"
    }
   }
  },
  {
   "cell_type": "markdown",
   "source": [
    "# Naive Bayes"
   ],
   "metadata": {
    "collapsed": false,
    "pycharm": {
     "name": "#%% md\n"
    }
   }
  },
  {
   "cell_type": "code",
   "execution_count": 36,
   "outputs": [
    {
     "name": "stdout",
     "output_type": "stream",
     "text": [
      "Best Hyperparameters: {'priors': None, 'var_smoothing': 1e-09}\n",
      "{'Accuracy': 0.5775766531215367, 'Precision': 0.5480277024992473, 'Recall': 0.6983883346124329, 'Score': 0.6532801449784772}\n"
     ]
    }
   ],
   "source": [
    "# Discriminatory Data\n",
    "\n",
    "# Define the parameter grid for hyperparameter tuning\n",
    "naivebayes_dd_param_grid = {\n",
    "    'priors': [None, [0.5, 0.5], [0.3, 0.7], [0.7, 0.3]],  # Vary the prior probabilities\n",
    "    'var_smoothing': [1e-9, 1e-8, 1e-7, 1e-5]  # Vary the smoothing parameter\n",
    "}\n",
    "\n",
    "# Perform grid search using cross-validation\n",
    "naivebayes_dd_grid_search = GridSearchCV(estimator=GaussianNB(), param_grid=naivebayes_dd_param_grid, cv=5)\n",
    "naivebayes_dd_grid_search.fit(X_DD_train, y_train)\n",
    "\n",
    "# Get the best hyperparameters and model\n",
    "naivebayes_dd = naivebayes_dd_grid_search.best_estimator_\n",
    "print(f\"Best Hyperparameters: {naivebayes_dd_grid_search.best_params_}\")\n",
    "\n",
    "naivebayes_dd_val_pred = naivebayes_dd.predict(X_DD_val)\n",
    "dd_results['Naive Bayes'] = calculate_results(y_val, naivebayes_dd_val_pred)"
   ],
   "metadata": {
    "collapsed": false,
    "pycharm": {
     "name": "#%%\n"
    }
   }
  },
  {
   "cell_type": "code",
   "execution_count": 37,
   "outputs": [
    {
     "name": "stdout",
     "output_type": "stream",
     "text": [
      "Best Hyperparameters: {'priors': None, 'var_smoothing': 1e-08}\n",
      "{'Accuracy': 0.5387883265607684, 'Precision': 0.5144294413555732, 'Recall': 0.7455871066768994, 'Score': 0.6762398070805016}\n"
     ]
    }
   ],
   "source": [
    "# Non Discriminatory Data\n",
    "\n",
    "# Define the parameter grid for hyperparameter tuning\n",
    "naivebayes_nd_param_grid = {\n",
    "    'priors': [None, [0.5, 0.5], [0.3, 0.7], [0.7, 0.3]],  # Vary the prior probabilities\n",
    "    'var_smoothing': [1e-9, 1e-8, 1e-7, 1e-5]  # Vary the smoothing parameter\n",
    "}\n",
    "# Perform grid search using cross-validation\n",
    "naivebayes_nd_grid_search = GridSearchCV(estimator=GaussianNB(), param_grid=naivebayes_nd_param_grid, cv=5)\n",
    "naivebayes_nd_grid_search.fit(X_ND_train, y_train)\n",
    "\n",
    "# Get the best hyperparameters and model\n",
    "naivebayes_nd = naivebayes_nd_grid_search.best_estimator_\n",
    "print(f\"Best Hyperparameters: {naivebayes_nd_grid_search.best_params_}\")\n",
    "\n",
    "naivebayes_nd_val_pred = naivebayes_nd.predict(X_ND_val)\n",
    "nd_results['Naive Bayes'] = calculate_results(y_val, naivebayes_nd_val_pred)"
   ],
   "metadata": {
    "collapsed": false,
    "pycharm": {
     "name": "#%%\n"
    }
   }
  },
  {
   "cell_type": "markdown",
   "source": [
    "# Decision Tree"
   ],
   "metadata": {
    "collapsed": false,
    "pycharm": {
     "name": "#%% md\n"
    }
   }
  },
  {
   "cell_type": "code",
   "execution_count": null,
   "outputs": [],
   "source": [],
   "metadata": {
    "collapsed": false,
    "pycharm": {
     "name": "#%%\n"
    }
   }
  },
  {
   "cell_type": "code",
   "execution_count": null,
   "outputs": [],
   "source": [],
   "metadata": {
    "collapsed": false,
    "pycharm": {
     "name": "#%%\n"
    }
   }
  },
  {
   "cell_type": "code",
   "execution_count": null,
   "outputs": [],
   "source": [],
   "metadata": {
    "collapsed": false,
    "pycharm": {
     "name": "#%%\n"
    }
   }
  },
  {
   "cell_type": "code",
   "execution_count": 26,
   "outputs": [
    {
     "data": {
      "text/plain": "           Logistic Regression  Random Forest  Naive Bayes\nAccuracy              0.583487       0.620059     0.577577\nPrecision             0.572731       0.611631     0.548028\nRecall                0.530315       0.577130     0.698388\nScore                 0.543040       0.587480     0.653280",
      "text/html": "<div>\n<style scoped>\n    .dataframe tbody tr th:only-of-type {\n        vertical-align: middle;\n    }\n\n    .dataframe tbody tr th {\n        vertical-align: top;\n    }\n\n    .dataframe thead th {\n        text-align: right;\n    }\n</style>\n<table border=\"1\" class=\"dataframe\">\n  <thead>\n    <tr style=\"text-align: right;\">\n      <th></th>\n      <th>Logistic Regression</th>\n      <th>Random Forest</th>\n      <th>Naive Bayes</th>\n    </tr>\n  </thead>\n  <tbody>\n    <tr>\n      <th>Accuracy</th>\n      <td>0.583487</td>\n      <td>0.620059</td>\n      <td>0.577577</td>\n    </tr>\n    <tr>\n      <th>Precision</th>\n      <td>0.572731</td>\n      <td>0.611631</td>\n      <td>0.548028</td>\n    </tr>\n    <tr>\n      <th>Recall</th>\n      <td>0.530315</td>\n      <td>0.577130</td>\n      <td>0.698388</td>\n    </tr>\n    <tr>\n      <th>Score</th>\n      <td>0.543040</td>\n      <td>0.587480</td>\n      <td>0.653280</td>\n    </tr>\n  </tbody>\n</table>\n</div>"
     },
     "execution_count": 26,
     "metadata": {},
     "output_type": "execute_result"
    }
   ],
   "source": [
    "pd.DataFrame(dd_results)"
   ],
   "metadata": {
    "collapsed": false,
    "pycharm": {
     "name": "#%%\n"
    }
   }
  },
  {
   "cell_type": "code",
   "execution_count": 27,
   "outputs": [
    {
     "data": {
      "text/plain": "           Logistic Regression  Random Forest  Naive Bayes\nAccuracy              0.579239       0.592353     0.538604\nPrecision             0.572695       0.578389     0.514293\nRecall                0.495779       0.564850     0.745587\nScore                 0.518854       0.568912     0.676199",
      "text/html": "<div>\n<style scoped>\n    .dataframe tbody tr th:only-of-type {\n        vertical-align: middle;\n    }\n\n    .dataframe tbody tr th {\n        vertical-align: top;\n    }\n\n    .dataframe thead th {\n        text-align: right;\n    }\n</style>\n<table border=\"1\" class=\"dataframe\">\n  <thead>\n    <tr style=\"text-align: right;\">\n      <th></th>\n      <th>Logistic Regression</th>\n      <th>Random Forest</th>\n      <th>Naive Bayes</th>\n    </tr>\n  </thead>\n  <tbody>\n    <tr>\n      <th>Accuracy</th>\n      <td>0.579239</td>\n      <td>0.592353</td>\n      <td>0.538604</td>\n    </tr>\n    <tr>\n      <th>Precision</th>\n      <td>0.572695</td>\n      <td>0.578389</td>\n      <td>0.514293</td>\n    </tr>\n    <tr>\n      <th>Recall</th>\n      <td>0.495779</td>\n      <td>0.564850</td>\n      <td>0.745587</td>\n    </tr>\n    <tr>\n      <th>Score</th>\n      <td>0.518854</td>\n      <td>0.568912</td>\n      <td>0.676199</td>\n    </tr>\n  </tbody>\n</table>\n</div>"
     },
     "execution_count": 27,
     "metadata": {},
     "output_type": "execute_result"
    }
   ],
   "source": [
    "pd.DataFrame(nd_results)"
   ],
   "metadata": {
    "collapsed": false,
    "pycharm": {
     "name": "#%%\n"
    }
   }
  },
  {
   "cell_type": "code",
   "execution_count": null,
   "outputs": [],
   "source": [],
   "metadata": {
    "collapsed": false,
    "pycharm": {
     "name": "#%%\n"
    }
   }
  }
 ],
 "metadata": {
  "kernelspec": {
   "display_name": "Python 3",
   "language": "python",
   "name": "python3"
  },
  "language_info": {
   "codemirror_mode": {
    "name": "ipython",
    "version": 2
   },
   "file_extension": ".py",
   "mimetype": "text/x-python",
   "name": "python",
   "nbconvert_exporter": "python",
   "pygments_lexer": "ipython2",
   "version": "2.7.6"
  }
 },
 "nbformat": 4,
 "nbformat_minor": 0
}