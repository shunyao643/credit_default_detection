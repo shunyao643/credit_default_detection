{
 "cells": [
  {
   "cell_type": "markdown",
   "source": [
    "# Imports and Dependencies"
   ],
   "metadata": {
    "collapsed": false,
    "pycharm": {
     "name": "#%% md\n"
    }
   }
  },
  {
   "cell_type": "code",
   "execution_count": 1,
   "metadata": {
    "collapsed": true,
    "pycharm": {
     "name": "#%%\n"
    }
   },
   "outputs": [],
   "source": [
    "import pandas as pd\n",
    "import os\n",
    "\n",
    "from sklearn.model_selection import GridSearchCV\n",
    "from sklearn.metrics import make_scorer\n",
    "\n",
    "from sklearn.linear_model import LogisticRegression\n",
    "from sklearn.ensemble import RandomForestClassifier\n",
    "import xgboost as xgb\n",
    "from sklearn.naive_bayes import GaussianNB\n",
    "from sklearn.tree import DecisionTreeClassifier\n",
    "from sklearn import svm\n",
    "\n",
    "from helper_functions import custom_metric, calculate_metrics"
   ]
  },
  {
   "cell_type": "code",
   "execution_count": 2,
   "outputs": [],
   "source": [
    "# Folder containing the CSV files\n",
    "folder_path = 'split_data/'\n",
    "\n",
    "# Access the loaded DataFrames\n",
    "X_ND_train = pd.read_csv(os.path.join(folder_path, \"X_ND_train.csv\"))\n",
    "X_DD_train = pd.read_csv(os.path.join(folder_path, \"X_DD_train.csv\"))\n",
    "X_ND_val = pd.read_csv(os.path.join(folder_path, \"X_ND_val.csv\"))\n",
    "X_DD_val = pd.read_csv(os.path.join(folder_path, \"X_DD_val.csv\"))\n",
    "y_train = pd.read_csv(os.path.join(folder_path, \"y_train.csv\")).squeeze(\"columns\")\n",
    "y_val = pd.read_csv(os.path.join(folder_path, \"y_val.csv\")).squeeze(\"columns\")"
   ],
   "metadata": {
    "collapsed": false,
    "pycharm": {
     "name": "#%%\n"
    }
   }
  },
  {
   "cell_type": "code",
   "execution_count": 3,
   "outputs": [],
   "source": [
    "custom_scorer = make_scorer(custom_metric, greater_is_better=True, custom_weight=0.7)"
   ],
   "metadata": {
    "collapsed": false,
    "pycharm": {
     "name": "#%%\n"
    }
   }
  },
  {
   "cell_type": "code",
   "execution_count": 4,
   "outputs": [],
   "source": [
    "dd_results = {}\n",
    "nd_results = {}"
   ],
   "metadata": {
    "collapsed": false,
    "pycharm": {
     "name": "#%%\n"
    }
   }
  },
  {
   "cell_type": "markdown",
   "source": [
    "# Logistic Regression"
   ],
   "metadata": {
    "collapsed": false,
    "pycharm": {
     "name": "#%% md\n"
    }
   }
  },
  {
   "cell_type": "code",
   "execution_count": 53,
   "outputs": [
    {
     "name": "stdout",
     "output_type": "stream",
     "text": [
      "{'Accuracy': 0.58348725526413, 'Precision': 0.5727310401989225, 'Recall': 0.5303146584804298, 'Score': 0.5430395729959776}\n",
      "610 ms ± 0 ns per loop (mean ± std. dev. of 1 run, 1 loop each)\n"
     ]
    }
   ],
   "source": [
    "%%timeit -n 1 -r 1\n",
    "# Discriminatory Data\n",
    "logreg_dd = LogisticRegression(random_state = 0, max_iter=500).fit(X_DD_train, y_train)\n",
    "logreg_dd_val_pred = logreg_dd.predict(X_DD_val)\n",
    "dd_results['Log Reg'] = calculate_metrics(y_val, logreg_dd_val_pred)"
   ],
   "metadata": {
    "collapsed": false,
    "pycharm": {
     "name": "#%%\n"
    }
   }
  },
  {
   "cell_type": "code",
   "execution_count": 54,
   "outputs": [
    {
     "name": "stdout",
     "output_type": "stream",
     "text": [
      "{'Accuracy': 0.5792390099741411, 'Precision': 0.5726950354609929, 'Recall': 0.4957789716039908, 'Score': 0.5188537907610915}\n",
      "188 ms ± 0 ns per loop (mean ± std. dev. of 1 run, 1 loop each)\n"
     ]
    }
   ],
   "source": [
    "%%timeit -n 1 -r 1\n",
    "# Non Discriminatory Data\n",
    "logreg_nd = LogisticRegression(random_state = 0, max_iter=500).fit(X_ND_train, y_train)\n",
    "logreg_nd_val_pred = logreg_nd.predict(X_ND_val)\n",
    "nd_results['Log Reg'] = calculate_metrics(y_val, logreg_nd_val_pred)"
   ],
   "metadata": {
    "collapsed": false,
    "pycharm": {
     "name": "#%%\n"
    }
   }
  },
  {
   "cell_type": "markdown",
   "source": [
    "# Random Forest"
   ],
   "metadata": {
    "collapsed": false,
    "pycharm": {
     "name": "#%% md\n"
    }
   }
  },
  {
   "cell_type": "code",
   "execution_count": 7,
   "outputs": [
    {
     "name": "stdout",
     "output_type": "stream",
     "text": [
      "Best Hyperparameters: {'max_depth': None, 'min_samples_leaf': 2, 'min_samples_split': 2, 'n_estimators': 100}\n",
      "{'Accuracy': 0.6200591060214259, 'Precision': 0.6116307442049613, 'Recall': 0.5771297006907138, 'Score': 0.587480013744988}\n",
      "1min 6s ± 0 ns per loop (mean ± std. dev. of 1 run, 1 loop each)\n"
     ]
    }
   ],
   "source": [
    "%%timeit -n 1 -r 1\n",
    "# Discriminatory Data\n",
    "\n",
    "# Define the parameter grid for grid search\n",
    "randomforest_dd_param_grid = {\n",
    "    'n_estimators': [10, 33, 66, 100],\n",
    "    'max_depth': [None, 5, 8],\n",
    "    'min_samples_split': [2, 5, 10],\n",
    "    'min_samples_leaf': [1, 2, 4]\n",
    "}\n",
    "\n",
    "# Create the GridSearchCV object\n",
    "randomforest_dd_grid_search = GridSearchCV(estimator=RandomForestClassifier(random_state=42),\n",
    "                                           param_grid=randomforest_dd_param_grid, cv=5, n_jobs=-1,\n",
    "                                           scoring=custom_scorer)\n",
    "randomforest_dd_grid_search.fit(X_DD_train, y_train)\n",
    "\n",
    "# Best model and estimator\n",
    "randomforest_dd = randomforest_dd_grid_search.best_estimator_\n",
    "print(f\"Best Hyperparameters: {randomforest_dd_grid_search.best_params_}\")\n",
    "\n",
    "randomforest_dd_val_pred = randomforest_dd.predict(X_DD_val)\n",
    "dd_results['Random Forest'] = calculate_metrics(y_val, randomforest_dd_val_pred)"
   ],
   "metadata": {
    "collapsed": false,
    "pycharm": {
     "name": "#%%\n"
    }
   }
  },
  {
   "cell_type": "code",
   "execution_count": 8,
   "outputs": [
    {
     "name": "stdout",
     "output_type": "stream",
     "text": [
      "Best Hyperparameters: {'max_depth': 8, 'min_samples_leaf': 2, 'min_samples_split': 5, 'n_estimators': 10}\n",
      "{'Accuracy': 0.59235315847802, 'Precision': 0.5783889980353635, 'Recall': 0.5648503453568687, 'Score': 0.5689119411604172}\n",
      "43.7 s ± 0 ns per loop (mean ± std. dev. of 1 run, 1 loop each)\n"
     ]
    }
   ],
   "source": [
    "%%timeit -n 1 -r 1\n",
    "# Non Discriminatory Data\n",
    "\n",
    "# Define the parameter grid for grid search\n",
    "randomforest_nd_param_grid = {\n",
    "    'n_estimators': [10, 30, 50, 80],\n",
    "    'max_depth': [None, 5, 8],\n",
    "    'min_samples_split': [2, 5, 10],\n",
    "    'min_samples_leaf': [1, 2, 4]\n",
    "}\n",
    "\n",
    "# Create the GridSearchCV object\n",
    "randomforest_nd_grid_search = GridSearchCV(estimator=RandomForestClassifier(random_state=42),\n",
    "                                           param_grid=randomforest_nd_param_grid, cv=5, n_jobs=-1,\n",
    "                                           scoring=custom_scorer)\n",
    "randomforest_nd_grid_search.fit(X_ND_train, y_train)\n",
    "\n",
    "# Best model and estimator\n",
    "randomforest_nd = randomforest_nd_grid_search.best_estimator_\n",
    "print(f\"Best Hyperparameters: {randomforest_nd_grid_search.best_params_}\")\n",
    "\n",
    "randomforest_nd_val_pred = randomforest_nd.predict(X_ND_val)\n",
    "nd_results['Random Forest'] = calculate_metrics(y_val, randomforest_nd_val_pred)"
   ],
   "metadata": {
    "collapsed": false,
    "pycharm": {
     "name": "#%%\n"
    }
   }
  },
  {
   "cell_type": "markdown",
   "source": [
    "# Naive Bayes"
   ],
   "metadata": {
    "collapsed": false,
    "pycharm": {
     "name": "#%% md\n"
    }
   }
  },
  {
   "cell_type": "code",
   "execution_count": 28,
   "outputs": [
    {
     "name": "stdout",
     "output_type": "stream",
     "text": [
      "Best Hyperparameters: {'priors': [0.3, 0.7], 'var_smoothing': 1e-05}\n",
      "{'Accuracy': 0.5264130033247137, 'Precision': 0.5045297670405522, 'Recall': 0.897544128933231, 'Score': 0.7796398203654273}\n",
      "1.92 s ± 0 ns per loop (mean ± std. dev. of 1 run, 1 loop each)\n"
     ]
    }
   ],
   "source": [
    "%%timeit -n 1 -r 1\n",
    "# Discriminatory Data\n",
    "\n",
    "# Define the parameter grid for hyperparameter tuning\n",
    "naivebayes_dd_param_grid = {\n",
    "    'priors': [None, [0.5, 0.5], [0.3, 0.7], [0.7, 0.3]],  # Vary the prior probabilities\n",
    "    'var_smoothing': [1e-9, 1e-8, 1e-7, 1e-5]  # Vary the smoothing parameter\n",
    "}\n",
    "\n",
    "# Perform grid search using cross-validation\n",
    "naivebayes_dd_grid_search = GridSearchCV(estimator=GaussianNB(),\n",
    "                                         param_grid=naivebayes_dd_param_grid, cv=5, n_jobs=-1,\n",
    "                                         scoring=custom_scorer)\n",
    "naivebayes_dd_grid_search.fit(X_DD_train, y_train)\n",
    "\n",
    "# Get the best hyperparameters and model\n",
    "naivebayes_dd = naivebayes_dd_grid_search.best_estimator_\n",
    "print(f\"Best Hyperparameters: {naivebayes_dd_grid_search.best_params_}\")\n",
    "\n",
    "naivebayes_dd_val_pred = naivebayes_dd.predict(X_DD_val)\n",
    "dd_results['Naive Bayes'] = calculate_metrics(y_val, naivebayes_dd_val_pred)"
   ],
   "metadata": {
    "collapsed": false,
    "pycharm": {
     "name": "#%%\n"
    }
   }
  },
  {
   "cell_type": "code",
   "execution_count": 29,
   "outputs": [
    {
     "name": "stderr",
     "output_type": "stream",
     "text": [
      "/Users/shunyao/anaconda3/envs/untitled/lib/python3.10/site-packages/sklearn/metrics/_classification.py:1334: UndefinedMetricWarning: Precision is ill-defined and being set to 0.0 due to no predicted samples. Use `zero_division` parameter to control this behavior.\n",
      "  _warn_prf(average, modifier, msg_start, len(result))\n",
      "/Users/shunyao/anaconda3/envs/untitled/lib/python3.10/site-packages/sklearn/metrics/_classification.py:1334: UndefinedMetricWarning: Precision is ill-defined and being set to 0.0 due to no predicted samples. Use `zero_division` parameter to control this behavior.\n",
      "  _warn_prf(average, modifier, msg_start, len(result))\n",
      "/Users/shunyao/anaconda3/envs/untitled/lib/python3.10/site-packages/sklearn/metrics/_classification.py:1334: UndefinedMetricWarning: Precision is ill-defined and being set to 0.0 due to no predicted samples. Use `zero_division` parameter to control this behavior.\n",
      "  _warn_prf(average, modifier, msg_start, len(result))\n",
      "/Users/shunyao/anaconda3/envs/untitled/lib/python3.10/site-packages/sklearn/metrics/_classification.py:1334: UndefinedMetricWarning: Precision is ill-defined and being set to 0.0 due to no predicted samples. Use `zero_division` parameter to control this behavior.\n",
      "  _warn_prf(average, modifier, msg_start, len(result))\n",
      "/Users/shunyao/anaconda3/envs/untitled/lib/python3.10/site-packages/sklearn/metrics/_classification.py:1334: UndefinedMetricWarning: Precision is ill-defined and being set to 0.0 due to no predicted samples. Use `zero_division` parameter to control this behavior.\n",
      "  _warn_prf(average, modifier, msg_start, len(result))\n",
      "/Users/shunyao/anaconda3/envs/untitled/lib/python3.10/site-packages/sklearn/metrics/_classification.py:1334: UndefinedMetricWarning: Precision is ill-defined and being set to 0.0 due to no predicted samples. Use `zero_division` parameter to control this behavior.\n",
      "  _warn_prf(average, modifier, msg_start, len(result))\n",
      "/Users/shunyao/anaconda3/envs/untitled/lib/python3.10/site-packages/sklearn/metrics/_classification.py:1334: UndefinedMetricWarning: Precision is ill-defined and being set to 0.0 due to no predicted samples. Use `zero_division` parameter to control this behavior.\n",
      "  _warn_prf(average, modifier, msg_start, len(result))\n",
      "/Users/shunyao/anaconda3/envs/untitled/lib/python3.10/site-packages/sklearn/metrics/_classification.py:1334: UndefinedMetricWarning: Precision is ill-defined and being set to 0.0 due to no predicted samples. Use `zero_division` parameter to control this behavior.\n",
      "  _warn_prf(average, modifier, msg_start, len(result))\n",
      "/Users/shunyao/anaconda3/envs/untitled/lib/python3.10/site-packages/sklearn/metrics/_classification.py:1334: UndefinedMetricWarning: Precision is ill-defined and being set to 0.0 due to no predicted samples. Use `zero_division` parameter to control this behavior.\n",
      "  _warn_prf(average, modifier, msg_start, len(result))\n",
      "/Users/shunyao/anaconda3/envs/untitled/lib/python3.10/site-packages/sklearn/metrics/_classification.py:1334: UndefinedMetricWarning: Precision is ill-defined and being set to 0.0 due to no predicted samples. Use `zero_division` parameter to control this behavior.\n",
      "  _warn_prf(average, modifier, msg_start, len(result))\n",
      "/Users/shunyao/anaconda3/envs/untitled/lib/python3.10/site-packages/sklearn/metrics/_classification.py:1334: UndefinedMetricWarning: Precision is ill-defined and being set to 0.0 due to no predicted samples. Use `zero_division` parameter to control this behavior.\n",
      "  _warn_prf(average, modifier, msg_start, len(result))\n",
      "/Users/shunyao/anaconda3/envs/untitled/lib/python3.10/site-packages/sklearn/metrics/_classification.py:1334: UndefinedMetricWarning: Precision is ill-defined and being set to 0.0 due to no predicted samples. Use `zero_division` parameter to control this behavior.\n",
      "  _warn_prf(average, modifier, msg_start, len(result))\n",
      "/Users/shunyao/anaconda3/envs/untitled/lib/python3.10/site-packages/sklearn/metrics/_classification.py:1334: UndefinedMetricWarning: Precision is ill-defined and being set to 0.0 due to no predicted samples. Use `zero_division` parameter to control this behavior.\n",
      "  _warn_prf(average, modifier, msg_start, len(result))\n",
      "/Users/shunyao/anaconda3/envs/untitled/lib/python3.10/site-packages/sklearn/metrics/_classification.py:1334: UndefinedMetricWarning: Precision is ill-defined and being set to 0.0 due to no predicted samples. Use `zero_division` parameter to control this behavior.\n",
      "  _warn_prf(average, modifier, msg_start, len(result))\n",
      "/Users/shunyao/anaconda3/envs/untitled/lib/python3.10/site-packages/sklearn/metrics/_classification.py:1334: UndefinedMetricWarning: Precision is ill-defined and being set to 0.0 due to no predicted samples. Use `zero_division` parameter to control this behavior.\n",
      "  _warn_prf(average, modifier, msg_start, len(result))\n",
      "/Users/shunyao/anaconda3/envs/untitled/lib/python3.10/site-packages/sklearn/metrics/_classification.py:1334: UndefinedMetricWarning: Precision is ill-defined and being set to 0.0 due to no predicted samples. Use `zero_division` parameter to control this behavior.\n",
      "  _warn_prf(average, modifier, msg_start, len(result))\n",
      "/Users/shunyao/anaconda3/envs/untitled/lib/python3.10/site-packages/sklearn/metrics/_classification.py:1334: UndefinedMetricWarning: Precision is ill-defined and being set to 0.0 due to no predicted samples. Use `zero_division` parameter to control this behavior.\n",
      "  _warn_prf(average, modifier, msg_start, len(result))\n",
      "/Users/shunyao/anaconda3/envs/untitled/lib/python3.10/site-packages/sklearn/metrics/_classification.py:1334: UndefinedMetricWarning: Precision is ill-defined and being set to 0.0 due to no predicted samples. Use `zero_division` parameter to control this behavior.\n",
      "  _warn_prf(average, modifier, msg_start, len(result))\n",
      "/Users/shunyao/anaconda3/envs/untitled/lib/python3.10/site-packages/sklearn/metrics/_classification.py:1334: UndefinedMetricWarning: Precision is ill-defined and being set to 0.0 due to no predicted samples. Use `zero_division` parameter to control this behavior.\n",
      "  _warn_prf(average, modifier, msg_start, len(result))\n",
      "/Users/shunyao/anaconda3/envs/untitled/lib/python3.10/site-packages/sklearn/metrics/_classification.py:1334: UndefinedMetricWarning: Precision is ill-defined and being set to 0.0 due to no predicted samples. Use `zero_division` parameter to control this behavior.\n",
      "  _warn_prf(average, modifier, msg_start, len(result))\n"
     ]
    },
    {
     "name": "stdout",
     "output_type": "stream",
     "text": [
      "Best Hyperparameters: {'priors': [0.3, 0.7], 'var_smoothing': 1e-05}\n",
      "{'Accuracy': 0.5038788326560768, 'Precision': 0.4917423616845582, 'Recall': 0.9140445126630852, 'Score': 0.7873538673695271}\n",
      "751 ms ± 0 ns per loop (mean ± std. dev. of 1 run, 1 loop each)\n"
     ]
    }
   ],
   "source": [
    "%%timeit -n 1 -r 1\n",
    "# Non Discriminatory Data\n",
    "\n",
    "# Define the parameter grid for hyperparameter tuning\n",
    "naivebayes_nd_param_grid = {\n",
    "    'priors': [None, [0.5, 0.5], [0.3, 0.7], [0.7, 0.3]],  # Vary the prior probabilities\n",
    "    'var_smoothing': [1e-9, 1e-8, 1e-7, 1e-5]  # Vary the smoothing parameter\n",
    "}\n",
    "\n",
    "# Perform grid search using cross-validation\n",
    "naivebayes_nd_grid_search = GridSearchCV(estimator=GaussianNB(),\n",
    "                                         param_grid=naivebayes_nd_param_grid, cv=5, n_jobs=-1,\n",
    "                                         scoring=custom_scorer)\n",
    "naivebayes_nd_grid_search.fit(X_ND_train, y_train)\n",
    "\n",
    "# Get the best hyperparameters and model\n",
    "naivebayes_nd = naivebayes_nd_grid_search.best_estimator_\n",
    "print(f\"Best Hyperparameters: {naivebayes_nd_grid_search.best_params_}\")\n",
    "\n",
    "naivebayes_nd_val_pred = naivebayes_nd.predict(X_ND_val)\n",
    "nd_results['Naive Bayes'] = calculate_metrics(y_val, naivebayes_nd_val_pred)"
   ],
   "metadata": {
    "collapsed": false,
    "pycharm": {
     "name": "#%%\n"
    }
   }
  },
  {
   "cell_type": "markdown",
   "source": [
    "# Decision Tree"
   ],
   "metadata": {
    "collapsed": false,
    "pycharm": {
     "name": "#%% md\n"
    }
   }
  },
  {
   "cell_type": "code",
   "execution_count": 30,
   "outputs": [
    {
     "name": "stdout",
     "output_type": "stream",
     "text": [
      "Best Hyperparameters: {'criterion': 'entropy', 'max_depth': 5, 'min_samples_leaf': 1, 'min_samples_split': 2}\n",
      "{'Accuracy': 0.5925378647949759, 'Precision': 0.5664451827242525, 'Recall': 0.6542594013814275, 'Score': 0.6279151357842749}\n",
      "11.8 s ± 0 ns per loop (mean ± std. dev. of 1 run, 1 loop each)\n"
     ]
    }
   ],
   "source": [
    "%%timeit -n 1 -r 1\n",
    "# Discriminatory Data\n",
    "\n",
    "# Define the parameter grid for hyperparameter tuning\n",
    "decisiontree_dd_param_grid = {\n",
    "    'criterion': ['gini', 'entropy'],  # Criterion for splitting\n",
    "    'max_depth': [None, 5, 10, 15],  # Maximum depth of the tree\n",
    "    'min_samples_split': [2, 5, 10],  # Minimum number of samples required to split a node\n",
    "    'min_samples_leaf': [1, 2, 4]  # Minimum number of samples required at each leaf node\n",
    "}\n",
    "\n",
    "# Perform grid search using cross-validation\n",
    "decisiontree_dd_grid_search = GridSearchCV(estimator=DecisionTreeClassifier(random_state=5),\n",
    "                                           param_grid=decisiontree_dd_param_grid, cv=5, n_jobs=-1,\n",
    "                                           scoring=custom_scorer)\n",
    "decisiontree_dd_grid_search.fit(X_DD_train, y_train)\n",
    "\n",
    "# Best model and estimator\n",
    "decisiontree_dd = decisiontree_dd_grid_search.best_estimator_\n",
    "print(f\"Best Hyperparameters: {decisiontree_dd_grid_search.best_params_}\")\n",
    "\n",
    "decisiontree_dd_val_pred = decisiontree_dd.predict(X_DD_val)\n",
    "dd_results['Decision Tree'] = calculate_metrics(y_val, decisiontree_dd_val_pred)"
   ],
   "metadata": {
    "collapsed": false,
    "pycharm": {
     "name": "#%%\n"
    }
   }
  },
  {
   "cell_type": "code",
   "execution_count": 31,
   "outputs": [
    {
     "name": "stdout",
     "output_type": "stream",
     "text": [
      "Best Hyperparameters: {'criterion': 'entropy', 'max_depth': 10, 'min_samples_leaf': 1, 'min_samples_split': 10}\n",
      "{'Accuracy': 0.5823790173623938, 'Precision': 0.5608465608465608, 'Recall': 0.6101304681504222, 'Score': 0.5953452959592638}\n",
      "6.32 s ± 0 ns per loop (mean ± std. dev. of 1 run, 1 loop each)\n"
     ]
    }
   ],
   "source": [
    "%%timeit -n 1 -r 1\n",
    "# Non Discriminatory Data\n",
    "\n",
    "# Define the parameter grid for hyperparameter tuning\n",
    "decisiontree_nd_param_grid = {\n",
    "    'criterion': ['gini', 'entropy'],  # Criterion for splitting\n",
    "    'max_depth': [None, 5, 10, 15],  # Maximum depth of the tree\n",
    "    'min_samples_split': [2, 5, 10],  # Minimum number of samples required to split a node\n",
    "    'min_samples_leaf': [1, 2, 4]  # Minimum number of samples required at each leaf node\n",
    "}\n",
    "\n",
    "# Perform grid search using cross-validation\n",
    "decisiontree_nd_grid_search = GridSearchCV(estimator=DecisionTreeClassifier(random_state=5),\n",
    "                                           param_grid=decisiontree_nd_param_grid, cv=5, n_jobs=-1,\n",
    "                                           scoring=custom_scorer)\n",
    "decisiontree_nd_grid_search.fit(X_ND_train, y_train)\n",
    "\n",
    "# Best model and estimator\n",
    "decisiontree_nd = decisiontree_nd_grid_search.best_estimator_\n",
    "print(f\"Best Hyperparameters: {decisiontree_nd_grid_search.best_params_}\")\n",
    "\n",
    "decisiontree_nd_val_pred = decisiontree_nd.predict(X_ND_val)\n",
    "nd_results['Decision Tree'] = calculate_metrics(y_val, decisiontree_nd_val_pred)"
   ],
   "metadata": {
    "collapsed": false,
    "pycharm": {
     "name": "#%%\n"
    }
   }
  },
  {
   "cell_type": "markdown",
   "source": [
    "# Support Vector Machine"
   ],
   "metadata": {
    "collapsed": false,
    "pycharm": {
     "name": "#%% md\n"
    }
   }
  },
  {
   "cell_type": "code",
   "execution_count": 13,
   "outputs": [
    {
     "name": "stdout",
     "output_type": "stream",
     "text": [
      "{'Accuracy': 0.5718507572958995, 'Precision': 0.5767590618336887, 'Recall': 0.4151957022256332, 'Score': 0.4636647101080499}\n",
      "40.4 s ± 0 ns per loop (mean ± std. dev. of 1 run, 1 loop each)\n"
     ]
    }
   ],
   "source": [
    "%%timeit -n 1 -r 1\n",
    "# Discriminatory Data\n",
    "\n",
    "svm_dd = svm.SVC().fit(X_DD_train, y_train)\n",
    "svm_dd_val_pred = svm_dd.predict(X_DD_val)\n",
    "dd_results[\"SVM\"] = calculate_metrics(y_val, svm_dd_val_pred)"
   ],
   "metadata": {
    "collapsed": false,
    "pycharm": {
     "name": "#%%\n"
    }
   }
  },
  {
   "cell_type": "code",
   "execution_count": 14,
   "outputs": [
    {
     "name": "stdout",
     "output_type": "stream",
     "text": [
      "{'Accuracy': 0.5672330993719985, 'Precision': 0.5700586041555674, 'Recall': 0.41059094397544127, 'Score': 0.45843124202947916}\n",
      "30.2 s ± 0 ns per loop (mean ± std. dev. of 1 run, 1 loop each)\n"
     ]
    }
   ],
   "source": [
    "%%timeit -n 1 -r 1\n",
    "# Non Discriminatory Data\n",
    "\n",
    "svm_nd = svm.SVC().fit(X_ND_train, y_train)\n",
    "svm_nd_val_pred = svm_nd.predict(X_ND_val)\n",
    "nd_results[\"SVM\"] = calculate_metrics(y_val, svm_nd_val_pred)"
   ],
   "metadata": {
    "collapsed": false,
    "pycharm": {
     "name": "#%%\n"
    }
   }
  },
  {
   "cell_type": "markdown",
   "source": [
    "# XGBoost"
   ],
   "metadata": {
    "collapsed": false,
    "pycharm": {
     "name": "#%% md\n"
    }
   }
  },
  {
   "cell_type": "code",
   "execution_count": null,
   "outputs": [
    {
     "name": "stdout",
     "output_type": "stream",
     "text": [
      "Best Hyperparameters: {'learning_rate': 0.1, 'max_depth': 5, 'n_estimators': 300}\n",
      "{'Accuracy': 0.6276320650166236, 'Precision': 0.6136363636363636, 'Recall': 0.61128165771297, 'Score': 0.6119880694899881}\n",
      "6min 55s ± 0 ns per loop (mean ± std. dev. of 1 run, 1 loop each)\n"
     ]
    },
    {
     "name": "stderr",
     "output_type": "stream",
     "text": [
      "\n",
      "KeyboardInterrupt\n",
      "\n"
     ]
    }
   ],
   "source": [
    "%%timeit -n 1 -r 1\n",
    "# Discriminatory Data\n",
    "\n",
    "xgb_dd_param_grid = {\n",
    "    'max_depth': [3, 5, 7],  # Maximum depth of a tree\n",
    "    'learning_rate': [0.1, 0.01, 0.001],  # Learning rate of the model\n",
    "    'n_estimators': [100, 200, 300],  # Number of trees (boosting rounds)\n",
    "}\n",
    "\n",
    "# Perform grid search with custom scorer\n",
    "xgb_dd_grid_search = GridSearchCV(xgb.XGBClassifier(), xgb_dd_param_grid, scoring=custom_scorer, cv=5)\n",
    "xgb_dd_grid_search.fit(X_DD_train, y_train)\n",
    "\n",
    "# Best model and estimator\n",
    "xgb_dd = xgb_dd_grid_search.best_estimator_\n",
    "print(f\"Best Hyperparameters: {xgb_dd_grid_search.best_params_}\")\n",
    "\n",
    "xgb_dd_val_pred = xgb_dd.predict(X_DD_val)\n",
    "dd_results[\"XGBoost\"] = calculate_metrics(y_val, xgb_dd_val_pred)"
   ],
   "metadata": {
    "collapsed": false,
    "pycharm": {
     "name": "#%%\n"
    }
   }
  },
  {
   "cell_type": "code",
   "execution_count": 20,
   "outputs": [
    {
     "name": "stdout",
     "output_type": "stream",
     "text": [
      "Best Hyperparameters: {'learning_rate': 0.001, 'max_depth': 5, 'n_estimators': 200}\n",
      "{'Accuracy': 0.5930919837458442, 'Precision': 0.5754964406144624, 'Recall': 0.5894090560245587, 'Score': 0.5852352714015299}\n",
      "4min 21s ± 0 ns per loop (mean ± std. dev. of 1 run, 1 loop each)\n"
     ]
    }
   ],
   "source": [
    "%%timeit -n 1 -r 1\n",
    "# Discriminatory Data\n",
    "\n",
    "xgb_nd_param_grid = {\n",
    "    'max_depth': [3, 5, 7],  # Maximum depth of a tree\n",
    "    'learning_rate': [0.1, 0.01, 0.001],  # Learning rate of the model\n",
    "    'n_estimators': [100, 200, 300],  # Number of trees (boosting rounds)\n",
    "}\n",
    "\n",
    "# Perform grid search with custom scorer\n",
    "xgb_nd_grid_search = GridSearchCV(xgb.XGBClassifier(), xgb_nd_param_grid, scoring=custom_scorer, cv=5)\n",
    "xgb_nd_grid_search.fit(X_ND_train, y_train)\n",
    "\n",
    "# Best model and estimator\n",
    "xgb_nd = xgb_nd_grid_search.best_estimator_\n",
    "print(f\"Best Hyperparameters: {xgb_nd_grid_search.best_params_}\")\n",
    "\n",
    "xgb_nd_val_pred = xgb_nd.predict(X_ND_val)\n",
    "nd_results[\"XGBoost\"] = calculate_metrics(y_val, xgb_nd_val_pred)"
   ],
   "metadata": {
    "collapsed": false,
    "pycharm": {
     "name": "#%%\n"
    }
   }
  },
  {
   "cell_type": "markdown",
   "source": [
    "# Results"
   ],
   "metadata": {
    "collapsed": false,
    "pycharm": {
     "name": "#%% md\n"
    }
   }
  },
  {
   "cell_type": "code",
   "execution_count": 65,
   "outputs": [
    {
     "data": {
      "text/plain": "           Random Forest  Naive Bayes  Decision Tree       SVM   XGBoost  \\\nAccuracy        0.620059     0.526413       0.592538  0.571851  0.627632   \nPrecision       0.611631     0.504530       0.566445  0.576759  0.613636   \nRecall          0.577130     0.897544       0.654259  0.415196  0.611282   \nScore           0.587480     0.779640       0.627915  0.463665  0.611988   \n\n            Log Reg  \nAccuracy   0.583487  \nPrecision  0.572731  \nRecall     0.530315  \nScore      0.543040  ",
      "text/html": "<div>\n<style scoped>\n    .dataframe tbody tr th:only-of-type {\n        vertical-align: middle;\n    }\n\n    .dataframe tbody tr th {\n        vertical-align: top;\n    }\n\n    .dataframe thead th {\n        text-align: right;\n    }\n</style>\n<table border=\"1\" class=\"dataframe\">\n  <thead>\n    <tr style=\"text-align: right;\">\n      <th></th>\n      <th>Random Forest</th>\n      <th>Naive Bayes</th>\n      <th>Decision Tree</th>\n      <th>SVM</th>\n      <th>XGBoost</th>\n      <th>Log Reg</th>\n    </tr>\n  </thead>\n  <tbody>\n    <tr>\n      <th>Accuracy</th>\n      <td>0.620059</td>\n      <td>0.526413</td>\n      <td>0.592538</td>\n      <td>0.571851</td>\n      <td>0.627632</td>\n      <td>0.583487</td>\n    </tr>\n    <tr>\n      <th>Precision</th>\n      <td>0.611631</td>\n      <td>0.504530</td>\n      <td>0.566445</td>\n      <td>0.576759</td>\n      <td>0.613636</td>\n      <td>0.572731</td>\n    </tr>\n    <tr>\n      <th>Recall</th>\n      <td>0.577130</td>\n      <td>0.897544</td>\n      <td>0.654259</td>\n      <td>0.415196</td>\n      <td>0.611282</td>\n      <td>0.530315</td>\n    </tr>\n    <tr>\n      <th>Score</th>\n      <td>0.587480</td>\n      <td>0.779640</td>\n      <td>0.627915</td>\n      <td>0.463665</td>\n      <td>0.611988</td>\n      <td>0.543040</td>\n    </tr>\n  </tbody>\n</table>\n</div>"
     },
     "execution_count": 65,
     "metadata": {},
     "output_type": "execute_result"
    }
   ],
   "source": [
    "pd.DataFrame(dd_results)"
   ],
   "metadata": {
    "collapsed": false,
    "pycharm": {
     "name": "#%%\n"
    }
   }
  },
  {
   "cell_type": "code",
   "execution_count": 66,
   "outputs": [
    {
     "data": {
      "text/plain": "           Random Forest  Naive Bayes  Decision Tree       SVM   XGBoost  \\\nAccuracy        0.592353     0.503879       0.582379  0.567233  0.593092   \nPrecision       0.578389     0.491742       0.560847  0.570059  0.575496   \nRecall          0.564850     0.914045       0.610130  0.410591  0.589409   \nScore           0.568912     0.787354       0.595345  0.458431  0.585235   \n\n            Log Reg  \nAccuracy   0.579239  \nPrecision  0.572695  \nRecall     0.495779  \nScore      0.518854  ",
      "text/html": "<div>\n<style scoped>\n    .dataframe tbody tr th:only-of-type {\n        vertical-align: middle;\n    }\n\n    .dataframe tbody tr th {\n        vertical-align: top;\n    }\n\n    .dataframe thead th {\n        text-align: right;\n    }\n</style>\n<table border=\"1\" class=\"dataframe\">\n  <thead>\n    <tr style=\"text-align: right;\">\n      <th></th>\n      <th>Random Forest</th>\n      <th>Naive Bayes</th>\n      <th>Decision Tree</th>\n      <th>SVM</th>\n      <th>XGBoost</th>\n      <th>Log Reg</th>\n    </tr>\n  </thead>\n  <tbody>\n    <tr>\n      <th>Accuracy</th>\n      <td>0.592353</td>\n      <td>0.503879</td>\n      <td>0.582379</td>\n      <td>0.567233</td>\n      <td>0.593092</td>\n      <td>0.579239</td>\n    </tr>\n    <tr>\n      <th>Precision</th>\n      <td>0.578389</td>\n      <td>0.491742</td>\n      <td>0.560847</td>\n      <td>0.570059</td>\n      <td>0.575496</td>\n      <td>0.572695</td>\n    </tr>\n    <tr>\n      <th>Recall</th>\n      <td>0.564850</td>\n      <td>0.914045</td>\n      <td>0.610130</td>\n      <td>0.410591</td>\n      <td>0.589409</td>\n      <td>0.495779</td>\n    </tr>\n    <tr>\n      <th>Score</th>\n      <td>0.568912</td>\n      <td>0.787354</td>\n      <td>0.595345</td>\n      <td>0.458431</td>\n      <td>0.585235</td>\n      <td>0.518854</td>\n    </tr>\n  </tbody>\n</table>\n</div>"
     },
     "execution_count": 66,
     "metadata": {},
     "output_type": "execute_result"
    }
   ],
   "source": [
    "pd.DataFrame(nd_results)"
   ],
   "metadata": {
    "collapsed": false,
    "pycharm": {
     "name": "#%%\n"
    }
   }
  },
  {
   "cell_type": "code",
   "execution_count": 67,
   "outputs": [],
   "source": [
    "pd.DataFrame(dd_results).to_csv('dd_results.csv')"
   ],
   "metadata": {
    "collapsed": false,
    "pycharm": {
     "name": "#%%\n"
    }
   }
  },
  {
   "cell_type": "code",
   "execution_count": null,
   "outputs": [],
   "source": [
    "pd.DataFrame(nd_results).to_csv('nd_results.csv')"
   ],
   "metadata": {
    "collapsed": false,
    "pycharm": {
     "name": "#%%\n"
    }
   }
  },
  {
   "cell_type": "code",
   "execution_count": null,
   "outputs": [],
   "source": [],
   "metadata": {
    "collapsed": false,
    "pycharm": {
     "name": "#%%\n"
    }
   }
  },
  {
   "cell_type": "code",
   "execution_count": null,
   "outputs": [],
   "source": [],
   "metadata": {
    "collapsed": false,
    "pycharm": {
     "name": "#%%\n"
    }
   }
  }
 ],
 "metadata": {
  "kernelspec": {
   "display_name": "Python 3",
   "language": "python",
   "name": "python3"
  },
  "language_info": {
   "codemirror_mode": {
    "name": "ipython",
    "version": 2
   },
   "file_extension": ".py",
   "mimetype": "text/x-python",
   "name": "python",
   "nbconvert_exporter": "python",
   "pygments_lexer": "ipython2",
   "version": "2.7.6"
  }
 },
 "nbformat": 4,
 "nbformat_minor": 0
}