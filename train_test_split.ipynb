{
 "cells": [
  {
   "cell_type": "markdown",
   "source": [
    "# Imports and Dependencies"
   ],
   "metadata": {
    "collapsed": false,
    "pycharm": {
     "name": "#%% md\n"
    }
   }
  },
  {
   "cell_type": "code",
   "execution_count": 4,
   "metadata": {
    "collapsed": true,
    "pycharm": {
     "name": "#%%\n"
    }
   },
   "outputs": [],
   "source": [
    "import pandas as pd\n",
    "import numpy as np\n",
    "from sklearn.model_selection import train_test_split"
   ]
  },
  {
   "cell_type": "code",
   "execution_count": 22,
   "outputs": [],
   "source": [
    "df = pd.read_csv('processed_application_data.csv', index_col=0)\n",
    "column_labels = pd.read_excel('column_labels.xlsx', index_col=0)"
   ],
   "metadata": {
    "collapsed": false,
    "pycharm": {
     "name": "#%%\n"
    }
   }
  },
  {
   "cell_type": "markdown",
   "source": [
    "# Split Dataset"
   ],
   "metadata": {
    "collapsed": false,
    "pycharm": {
     "name": "#%% md\n"
    }
   }
  },
  {
   "cell_type": "code",
   "execution_count": 23,
   "outputs": [],
   "source": [
    "X = df.drop(columns=['TARGET'])\n",
    "y = df['TARGET']"
   ],
   "metadata": {
    "collapsed": false,
    "pycharm": {
     "name": "#%%\n"
    }
   }
  },
  {
   "cell_type": "code",
   "execution_count": 24,
   "outputs": [],
   "source": [
    "X_train, X_test_validate, y_train, y_test_validate  = train_test_split(X, y, test_size=0.3, random_state=1)\n",
    "X_test, X_val, y_test, y_val = train_test_split(X_test_validate, y_test_validate, test_size=0.5, random_state=1)"
   ],
   "metadata": {
    "collapsed": false,
    "pycharm": {
     "name": "#%%\n"
    }
   }
  },
  {
   "cell_type": "code",
   "execution_count": 25,
   "outputs": [
    {
     "name": "stdout",
     "output_type": "stream",
     "text": [
      "(25263, 72) (25263,)\n",
      "(5413, 72) (5413,)\n",
      "(5414, 72) (5414,)\n"
     ]
    }
   ],
   "source": [
    "# check shapes\n",
    "print(X_train.shape, y_train.shape)\n",
    "print(X_test.shape, y_test.shape)\n",
    "print(X_val.shape, y_val.shape)"
   ],
   "metadata": {
    "collapsed": false,
    "pycharm": {
     "name": "#%%\n"
    }
   }
  },
  {
   "cell_type": "code",
   "execution_count": 26,
   "outputs": [],
   "source": [
    "ND_bool_array = np.array(column_labels['ND']==1)\n",
    "DD_bool_array = np.array(column_labels['DD']==1)"
   ],
   "metadata": {
    "collapsed": false,
    "pycharm": {
     "name": "#%%\n"
    }
   }
  },
  {
   "cell_type": "code",
   "execution_count": 34,
   "outputs": [],
   "source": [
    "files = {\n",
    "    'X_ND_train': X_train.loc[:, ND_bool_array],\n",
    "    'X_DD_train': X_train.loc[:, DD_bool_array],\n",
    "    'X_ND_test': X_test.loc[:, ND_bool_array],\n",
    "    'X_DD_test': X_test.loc[:, DD_bool_array],\n",
    "    'X_ND_val': X_val.loc[:, ND_bool_array],\n",
    "    'X_DD_val': X_val.loc[:, DD_bool_array],\n",
    "    'y_train': y_train,\n",
    "    'y_test': y_test,\n",
    "    'y_val': y_val\n",
    "}"
   ],
   "metadata": {
    "collapsed": false,
    "pycharm": {
     "name": "#%%\n"
    }
   }
  },
  {
   "cell_type": "code",
   "execution_count": 44,
   "outputs": [
    {
     "name": "stdout",
     "output_type": "stream",
     "text": [
      "X_ND_train written to split_data/X_ND_train.csv\n",
      "X_DD_train written to split_data/X_DD_train.csv\n",
      "X_ND_test written to split_data/X_ND_test.csv\n",
      "X_DD_test written to split_data/X_DD_test.csv\n",
      "X_ND_val written to split_data/X_ND_val.csv\n",
      "X_DD_val written to split_data/X_DD_val.csv\n",
      "y_train written to split_data/y_train.csv\n",
      "y_test written to split_data/y_test.csv\n",
      "y_val written to split_data/y_val.csv\n"
     ]
    }
   ],
   "source": [
    "for var_name, df in files.items():\n",
    "    file_name = 'split_data/'+ var_name + '.csv'\n",
    "    df.to_csv(file_name, index=False)\n",
    "    print(f'{var_name} written to {file_name}')"
   ],
   "metadata": {
    "collapsed": false,
    "pycharm": {
     "name": "#%%\n"
    }
   }
  }
 ],
 "metadata": {
  "kernelspec": {
   "display_name": "Python 3",
   "language": "python",
   "name": "python3"
  },
  "language_info": {
   "codemirror_mode": {
    "name": "ipython",
    "version": 2
   },
   "file_extension": ".py",
   "mimetype": "text/x-python",
   "name": "python",
   "nbconvert_exporter": "python",
   "pygments_lexer": "ipython2",
   "version": "2.7.6"
  }
 },
 "nbformat": 4,
 "nbformat_minor": 0
}