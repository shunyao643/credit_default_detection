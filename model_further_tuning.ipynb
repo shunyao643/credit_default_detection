{
 "cells": [
  {
   "cell_type": "markdown",
   "source": [
    "_Based on our previous training data, we determined that the Naive Bayes and Decision Tree were the top performing models. Here, we seek to further tune the model parameters to see if we can achieve a higher metric._\n"
   ],
   "metadata": {
    "collapsed": false,
    "pycharm": {
     "name": "#%% md\n"
    }
   }
  },
  {
   "cell_type": "markdown",
   "source": [
    "# Imports and Dependencies"
   ],
   "metadata": {
    "collapsed": false,
    "pycharm": {
     "name": "#%% md\n"
    }
   }
  },
  {
   "cell_type": "code",
   "execution_count": 3,
   "metadata": {
    "collapsed": true,
    "pycharm": {
     "name": "#%%\n"
    }
   },
   "outputs": [],
   "source": [
    "import pandas as pd\n",
    "import os\n",
    "\n",
    "from sklearn.model_selection import GridSearchCV\n",
    "from sklearn.metrics import make_scorer\n",
    "\n",
    "from sklearn.linear_model import LogisticRegression\n",
    "from sklearn.ensemble import RandomForestClassifier\n",
    "import xgboost as xgb\n",
    "from sklearn.naive_bayes import GaussianNB\n",
    "from sklearn.tree import DecisionTreeClassifier\n",
    "from sklearn import svm\n",
    "\n",
    "from helper_functions import custom_metric, calculate_metrics"
   ]
  },
  {
   "cell_type": "code",
   "execution_count": 13,
   "outputs": [],
   "source": [
    "# Folder containing the CSV files\n",
    "folder_path = 'split_data/'\n",
    "\n",
    "# Access the loaded DataFrames\n",
    "X_DD_train = pd.read_csv(os.path.join(folder_path, \"X_DD_train.csv\"))\n",
    "X_DD_val = pd.read_csv(os.path.join(folder_path, \"X_DD_val.csv\"))\n",
    "X_DD_train_val = pd.concat([X_DD_train, X_DD_val])\n",
    "\n",
    "X_ND_train = pd.read_csv(os.path.join(folder_path, \"X_ND_train.csv\"))\n",
    "X_ND_val = pd.read_csv(os.path.join(folder_path, \"X_ND_val.csv\"))\n",
    "X_ND_train_val = pd.concat([X_ND_train, X_ND_val])\n",
    "\n",
    "y_train = pd.read_csv(os.path.join(folder_path, \"y_train.csv\")).squeeze(\"columns\")\n",
    "y_val = pd.read_csv(os.path.join(folder_path, \"y_val.csv\")).squeeze(\"columns\")\n",
    "y_train_val = pd.concat([y_train, y_val])\n",
    "\n",
    "X_DD_test = pd.read_csv(os.path.join(folder_path, \"X_DD_test.csv\"))\n",
    "X_ND_test = pd.read_csv(os.path.join(folder_path, \"X_ND_test.csv\"))\n",
    "y_test = pd.read_csv(os.path.join(folder_path, \"y_test.csv\")).squeeze('columns')"
   ],
   "metadata": {
    "collapsed": false,
    "pycharm": {
     "name": "#%%\n"
    }
   }
  },
  {
   "cell_type": "code",
   "execution_count": 5,
   "outputs": [],
   "source": [
    "custom_scorer = make_scorer(custom_metric, greater_is_better=True, custom_weight=0.7)\n",
    "dd_results = {}\n",
    "nd_results = {}"
   ],
   "metadata": {
    "collapsed": false,
    "pycharm": {
     "name": "#%%\n"
    }
   }
  },
  {
   "cell_type": "markdown",
   "source": [
    "# Decision Tree"
   ],
   "metadata": {
    "collapsed": false,
    "pycharm": {
     "name": "#%% md\n"
    }
   }
  },
  {
   "cell_type": "code",
   "execution_count": 15,
   "outputs": [
    {
     "name": "stdout",
     "output_type": "stream",
     "text": [
      "Best Hyperparameters: {'criterion': 'gini', 'max_depth': 5, 'max_features': None, 'min_samples_leaf': 1, 'min_samples_split': 2}\n",
      "{'Accuracy': 0.5941252540181046, 'Precision': 0.5688311688311688, 'Recall': 0.6684471575734453, 'Score': 0.6385623609507624}\n",
      "48.4 s ± 0 ns per loop (mean ± std. dev. of 1 run, 1 loop each)\n"
     ]
    }
   ],
   "source": [
    "%%timeit -n 1 -r 1\n",
    "# Discriminatory Data\n",
    "\n",
    "# Define the parameter grid for hyperparameter tuning\n",
    "decisiontree_dd_param_grid = {\n",
    "    'criterion': ['gini', 'entropy'],\n",
    "    'max_depth': [None, 5, 10, 15, 20],\n",
    "    'min_samples_split': [2, 5, 10, 20],\n",
    "    'min_samples_leaf': [1, 2, 4, 8],\n",
    "    'max_features': [None, 'sqrt', 'log2']\n",
    "}\n",
    "\n",
    "# Perform grid search using cross-validation\n",
    "decisiontree_dd_grid_search = GridSearchCV(estimator=DecisionTreeClassifier(random_state=5),\n",
    "                                           param_grid=decisiontree_dd_param_grid, cv=5, n_jobs=-1)\n",
    "decisiontree_dd_grid_search.fit(X_DD_train_val, y_train_val)\n",
    "\n",
    "# Best model and estimator\n",
    "decisiontree_dd = decisiontree_dd_grid_search.best_estimator_\n",
    "print(f\"Best Hyperparameters: {decisiontree_dd_grid_search.best_params_}\")\n",
    "\n",
    "decisiontree_dd_test_pred = decisiontree_dd.predict(X_DD_test)\n",
    "dd_results['Decision Tree'] = calculate_metrics(y_test, decisiontree_dd_test_pred)"
   ],
   "metadata": {
    "collapsed": false,
    "pycharm": {
     "name": "#%%\n"
    }
   }
  },
  {
   "cell_type": "code",
   "execution_count": 16,
   "outputs": [
    {
     "name": "stdout",
     "output_type": "stream",
     "text": [
      "Best Hyperparameters: {'criterion': 'entropy', 'max_depth': 10, 'max_features': None, 'min_samples_leaf': 2, 'min_samples_split': 20}\n",
      "{'Accuracy': 0.5883983003879549, 'Precision': 0.5778834720570749, 'Recall': 0.5562762304463945, 'Score': 0.5627584029295987}\n",
      "27.8 s ± 0 ns per loop (mean ± std. dev. of 1 run, 1 loop each)\n"
     ]
    }
   ],
   "source": [
    "%%timeit -n 1 -r 1\n",
    "# Discriminatory Data\n",
    "\n",
    "# Define the parameter grid for hyperparameter tuning\n",
    "decisiontree_nd_param_grid = {\n",
    "    'criterion': ['gini', 'entropy'],\n",
    "    'max_depth': [None, 5, 10, 15, 20],\n",
    "    'min_samples_split': [2, 5, 10, 20],\n",
    "    'min_samples_leaf': [1, 2, 4, 8],\n",
    "    'max_features': [None, 'sqrt', 'log2']\n",
    "}\n",
    "\n",
    "# Perform grid search using cross-validation\n",
    "decisiontree_nd_grid_search = GridSearchCV(estimator=DecisionTreeClassifier(random_state=5),\n",
    "                                           param_grid=decisiontree_nd_param_grid, cv=5, n_jobs=-1)\n",
    "decisiontree_nd_grid_search.fit(X_ND_train_val, y_train_val)\n",
    "\n",
    "# Best model and estimator\n",
    "decisiontree_nd = decisiontree_nd_grid_search.best_estimator_\n",
    "print(f\"Best Hyperparameters: {decisiontree_nd_grid_search.best_params_}\")\n",
    "\n",
    "decisiontree_nd_test_pred = decisiontree_nd.predict(X_ND_test)\n",
    "nd_results['Decision Tree'] = calculate_metrics(y_test, decisiontree_nd_test_pred)"
   ],
   "metadata": {
    "collapsed": false,
    "pycharm": {
     "name": "#%%\n"
    }
   }
  },
  {
   "cell_type": "markdown",
   "source": [
    "# Naive Bayes"
   ],
   "metadata": {
    "collapsed": false,
    "pycharm": {
     "name": "#%% md\n"
    }
   }
  },
  {
   "cell_type": "code",
   "execution_count": 17,
   "outputs": [
    {
     "name": "stdout",
     "output_type": "stream",
     "text": [
      "Best Hyperparameters: {'priors': [0.3, 0.7], 'var_smoothing': 1e-05}\n",
      "{'Accuracy': 0.5294661001293183, 'Precision': 0.5080330004342163, 'Recall': 0.8927890118275468, 'Score': 0.7773622084095476}\n",
      "2.21 s ± 0 ns per loop (mean ± std. dev. of 1 run, 1 loop each)\n"
     ]
    }
   ],
   "source": [
    "%%timeit -n 1 -r 1\n",
    "# Discriminatory Data\n",
    "\n",
    "# Define the parameter grid for hyperparameter tuning\n",
    "naivebayes_dd_param_grid = {\n",
    "    'priors': [None, [0.5, 0.5], [0.3, 0.7], [0.7, 0.3]],  # Vary the prior probabilities\n",
    "    'var_smoothing': [1e-9, 1e-8, 1e-7, 1e-5]  # Vary the smoothing parameter\n",
    "}\n",
    "\n",
    "# Perform grid search using cross-validation\n",
    "naivebayes_dd_grid_search = GridSearchCV(estimator=GaussianNB(),\n",
    "                                         param_grid=naivebayes_dd_param_grid, cv=5, n_jobs=-1,\n",
    "                                         scoring=custom_scorer)\n",
    "naivebayes_dd_grid_search.fit(X_DD_train_val, y_train_val)\n",
    "\n",
    "# Get the best hyperparameters and model\n",
    "naivebayes_dd = naivebayes_dd_grid_search.best_estimator_\n",
    "print(f\"Best Hyperparameters: {naivebayes_dd_grid_search.best_params_}\")\n",
    "\n",
    "naivebayes_dd_test_pred = naivebayes_dd.predict(X_DD_test)\n",
    "dd_results['Naive Bayes'] = calculate_metrics(y_test, naivebayes_dd_test_pred)"
   ],
   "metadata": {
    "collapsed": false,
    "pycharm": {
     "name": "#%%\n"
    }
   }
  },
  {
   "cell_type": "code",
   "execution_count": 18,
   "outputs": [
    {
     "name": "stderr",
     "output_type": "stream",
     "text": [
      "/Users/shunyao/anaconda3/envs/untitled/lib/python3.10/site-packages/sklearn/metrics/_classification.py:1334: UndefinedMetricWarning: Precision is ill-defined and being set to 0.0 due to no predicted samples. Use `zero_division` parameter to control this behavior.\n",
      "  _warn_prf(average, modifier, msg_start, len(result))\n",
      "/Users/shunyao/anaconda3/envs/untitled/lib/python3.10/site-packages/sklearn/metrics/_classification.py:1334: UndefinedMetricWarning: Precision is ill-defined and being set to 0.0 due to no predicted samples. Use `zero_division` parameter to control this behavior.\n",
      "  _warn_prf(average, modifier, msg_start, len(result))\n",
      "/Users/shunyao/anaconda3/envs/untitled/lib/python3.10/site-packages/sklearn/metrics/_classification.py:1334: UndefinedMetricWarning: Precision is ill-defined and being set to 0.0 due to no predicted samples. Use `zero_division` parameter to control this behavior.\n",
      "  _warn_prf(average, modifier, msg_start, len(result))\n",
      "/Users/shunyao/anaconda3/envs/untitled/lib/python3.10/site-packages/sklearn/metrics/_classification.py:1334: UndefinedMetricWarning: Precision is ill-defined and being set to 0.0 due to no predicted samples. Use `zero_division` parameter to control this behavior.\n",
      "  _warn_prf(average, modifier, msg_start, len(result))\n",
      "/Users/shunyao/anaconda3/envs/untitled/lib/python3.10/site-packages/sklearn/metrics/_classification.py:1334: UndefinedMetricWarning: Precision is ill-defined and being set to 0.0 due to no predicted samples. Use `zero_division` parameter to control this behavior.\n",
      "  _warn_prf(average, modifier, msg_start, len(result))\n",
      "/Users/shunyao/anaconda3/envs/untitled/lib/python3.10/site-packages/sklearn/metrics/_classification.py:1334: UndefinedMetricWarning: Precision is ill-defined and being set to 0.0 due to no predicted samples. Use `zero_division` parameter to control this behavior.\n",
      "  _warn_prf(average, modifier, msg_start, len(result))\n",
      "/Users/shunyao/anaconda3/envs/untitled/lib/python3.10/site-packages/sklearn/metrics/_classification.py:1334: UndefinedMetricWarning: Precision is ill-defined and being set to 0.0 due to no predicted samples. Use `zero_division` parameter to control this behavior.\n",
      "  _warn_prf(average, modifier, msg_start, len(result))\n",
      "/Users/shunyao/anaconda3/envs/untitled/lib/python3.10/site-packages/sklearn/metrics/_classification.py:1334: UndefinedMetricWarning: Precision is ill-defined and being set to 0.0 due to no predicted samples. Use `zero_division` parameter to control this behavior.\n",
      "  _warn_prf(average, modifier, msg_start, len(result))\n",
      "/Users/shunyao/anaconda3/envs/untitled/lib/python3.10/site-packages/sklearn/metrics/_classification.py:1334: UndefinedMetricWarning: Precision is ill-defined and being set to 0.0 due to no predicted samples. Use `zero_division` parameter to control this behavior.\n",
      "  _warn_prf(average, modifier, msg_start, len(result))\n",
      "/Users/shunyao/anaconda3/envs/untitled/lib/python3.10/site-packages/sklearn/metrics/_classification.py:1334: UndefinedMetricWarning: Precision is ill-defined and being set to 0.0 due to no predicted samples. Use `zero_division` parameter to control this behavior.\n",
      "  _warn_prf(average, modifier, msg_start, len(result))\n",
      "/Users/shunyao/anaconda3/envs/untitled/lib/python3.10/site-packages/sklearn/metrics/_classification.py:1334: UndefinedMetricWarning: Precision is ill-defined and being set to 0.0 due to no predicted samples. Use `zero_division` parameter to control this behavior.\n",
      "  _warn_prf(average, modifier, msg_start, len(result))\n",
      "/Users/shunyao/anaconda3/envs/untitled/lib/python3.10/site-packages/sklearn/metrics/_classification.py:1334: UndefinedMetricWarning: Precision is ill-defined and being set to 0.0 due to no predicted samples. Use `zero_division` parameter to control this behavior.\n",
      "  _warn_prf(average, modifier, msg_start, len(result))\n",
      "/Users/shunyao/anaconda3/envs/untitled/lib/python3.10/site-packages/sklearn/metrics/_classification.py:1334: UndefinedMetricWarning: Precision is ill-defined and being set to 0.0 due to no predicted samples. Use `zero_division` parameter to control this behavior.\n",
      "  _warn_prf(average, modifier, msg_start, len(result))\n",
      "/Users/shunyao/anaconda3/envs/untitled/lib/python3.10/site-packages/sklearn/metrics/_classification.py:1334: UndefinedMetricWarning: Precision is ill-defined and being set to 0.0 due to no predicted samples. Use `zero_division` parameter to control this behavior.\n",
      "  _warn_prf(average, modifier, msg_start, len(result))\n",
      "/Users/shunyao/anaconda3/envs/untitled/lib/python3.10/site-packages/sklearn/metrics/_classification.py:1334: UndefinedMetricWarning: Precision is ill-defined and being set to 0.0 due to no predicted samples. Use `zero_division` parameter to control this behavior.\n",
      "  _warn_prf(average, modifier, msg_start, len(result))\n",
      "/Users/shunyao/anaconda3/envs/untitled/lib/python3.10/site-packages/sklearn/metrics/_classification.py:1334: UndefinedMetricWarning: Precision is ill-defined and being set to 0.0 due to no predicted samples. Use `zero_division` parameter to control this behavior.\n",
      "  _warn_prf(average, modifier, msg_start, len(result))\n",
      "/Users/shunyao/anaconda3/envs/untitled/lib/python3.10/site-packages/sklearn/metrics/_classification.py:1334: UndefinedMetricWarning: Precision is ill-defined and being set to 0.0 due to no predicted samples. Use `zero_division` parameter to control this behavior.\n",
      "  _warn_prf(average, modifier, msg_start, len(result))\n",
      "/Users/shunyao/anaconda3/envs/untitled/lib/python3.10/site-packages/sklearn/metrics/_classification.py:1334: UndefinedMetricWarning: Precision is ill-defined and being set to 0.0 due to no predicted samples. Use `zero_division` parameter to control this behavior.\n",
      "  _warn_prf(average, modifier, msg_start, len(result))\n",
      "/Users/shunyao/anaconda3/envs/untitled/lib/python3.10/site-packages/sklearn/metrics/_classification.py:1334: UndefinedMetricWarning: Precision is ill-defined and being set to 0.0 due to no predicted samples. Use `zero_division` parameter to control this behavior.\n",
      "  _warn_prf(average, modifier, msg_start, len(result))\n",
      "/Users/shunyao/anaconda3/envs/untitled/lib/python3.10/site-packages/sklearn/metrics/_classification.py:1334: UndefinedMetricWarning: Precision is ill-defined and being set to 0.0 due to no predicted samples. Use `zero_division` parameter to control this behavior.\n",
      "  _warn_prf(average, modifier, msg_start, len(result))\n"
     ]
    },
    {
     "name": "stdout",
     "output_type": "stream",
     "text": [
      "Best Hyperparameters: {'priors': [0.3, 0.7], 'var_smoothing': 1e-05}\n",
      "{'Accuracy': 0.50822094956586, 'Precision': 0.495735385895569, 'Recall': 0.9091949637542922, 'Score': 0.7851570903966751}\n",
      "919 ms ± 0 ns per loop (mean ± std. dev. of 1 run, 1 loop each)\n"
     ]
    }
   ],
   "source": [
    "%%timeit -n 1 -r 1\n",
    "# Non Discriminatory Data\n",
    "\n",
    "# Define the parameter grid for hyperparameter tuning\n",
    "naivebayes_nd_param_grid = {\n",
    "    'priors': [None, [0.5, 0.5], [0.3, 0.7], [0.7, 0.3]],  # Vary the prior probabilities\n",
    "    'var_smoothing': [1e-9, 1e-8, 1e-7, 1e-5]  # Vary the smoothing parameter\n",
    "}\n",
    "\n",
    "# Perform grid search using cross-validation\n",
    "naivebayes_nd_grid_search = GridSearchCV(estimator=GaussianNB(),\n",
    "                                         param_grid=naivebayes_nd_param_grid, cv=5, n_jobs=-1,\n",
    "                                         scoring=custom_scorer)\n",
    "naivebayes_nd_grid_search.fit(X_ND_train_val, y_train_val)\n",
    "\n",
    "# Get the best hyperparameters and model\n",
    "naivebayes_nd = naivebayes_nd_grid_search.best_estimator_\n",
    "print(f\"Best Hyperparameters: {naivebayes_nd_grid_search.best_params_}\")\n",
    "\n",
    "naivebayes_nd_test_pred = naivebayes_nd.predict(X_ND_test)\n",
    "nd_results['Naive Bayes'] = calculate_metrics(y_test, naivebayes_nd_test_pred)"
   ],
   "metadata": {
    "collapsed": false,
    "pycharm": {
     "name": "#%%\n"
    }
   }
  },
  {
   "cell_type": "code",
   "execution_count": 21,
   "outputs": [
    {
     "data": {
      "text/plain": "           Decision Tree  Naive Bayes\nAccuracy        0.594125     0.529466\nPrecision       0.568831     0.508033\nRecall          0.668447     0.892789\nScore           0.638562     0.777362",
      "text/html": "<div>\n<style scoped>\n    .dataframe tbody tr th:only-of-type {\n        vertical-align: middle;\n    }\n\n    .dataframe tbody tr th {\n        vertical-align: top;\n    }\n\n    .dataframe thead th {\n        text-align: right;\n    }\n</style>\n<table border=\"1\" class=\"dataframe\">\n  <thead>\n    <tr style=\"text-align: right;\">\n      <th></th>\n      <th>Decision Tree</th>\n      <th>Naive Bayes</th>\n    </tr>\n  </thead>\n  <tbody>\n    <tr>\n      <th>Accuracy</th>\n      <td>0.594125</td>\n      <td>0.529466</td>\n    </tr>\n    <tr>\n      <th>Precision</th>\n      <td>0.568831</td>\n      <td>0.508033</td>\n    </tr>\n    <tr>\n      <th>Recall</th>\n      <td>0.668447</td>\n      <td>0.892789</td>\n    </tr>\n    <tr>\n      <th>Score</th>\n      <td>0.638562</td>\n      <td>0.777362</td>\n    </tr>\n  </tbody>\n</table>\n</div>"
     },
     "execution_count": 21,
     "metadata": {},
     "output_type": "execute_result"
    }
   ],
   "source": [
    "pd.DataFrame(dd_results)"
   ],
   "metadata": {
    "collapsed": false,
    "pycharm": {
     "name": "#%%\n"
    }
   }
  },
  {
   "cell_type": "code",
   "execution_count": 20,
   "outputs": [
    {
     "data": {
      "text/plain": "           Decision Tree  Naive Bayes\nAccuracy        0.588398     0.508221\nPrecision       0.577883     0.495735\nRecall          0.556276     0.909195\nScore           0.562758     0.785157",
      "text/html": "<div>\n<style scoped>\n    .dataframe tbody tr th:only-of-type {\n        vertical-align: middle;\n    }\n\n    .dataframe tbody tr th {\n        vertical-align: top;\n    }\n\n    .dataframe thead th {\n        text-align: right;\n    }\n</style>\n<table border=\"1\" class=\"dataframe\">\n  <thead>\n    <tr style=\"text-align: right;\">\n      <th></th>\n      <th>Decision Tree</th>\n      <th>Naive Bayes</th>\n    </tr>\n  </thead>\n  <tbody>\n    <tr>\n      <th>Accuracy</th>\n      <td>0.588398</td>\n      <td>0.508221</td>\n    </tr>\n    <tr>\n      <th>Precision</th>\n      <td>0.577883</td>\n      <td>0.495735</td>\n    </tr>\n    <tr>\n      <th>Recall</th>\n      <td>0.556276</td>\n      <td>0.909195</td>\n    </tr>\n    <tr>\n      <th>Score</th>\n      <td>0.562758</td>\n      <td>0.785157</td>\n    </tr>\n  </tbody>\n</table>\n</div>"
     },
     "execution_count": 20,
     "metadata": {},
     "output_type": "execute_result"
    }
   ],
   "source": [
    "pd.DataFrame(nd_results)"
   ],
   "metadata": {
    "collapsed": false,
    "pycharm": {
     "name": "#%%\n"
    }
   }
  },
  {
   "cell_type": "markdown",
   "source": [],
   "metadata": {
    "collapsed": false,
    "pycharm": {
     "name": "#%% md\n"
    }
   }
  }
 ],
 "metadata": {
  "kernelspec": {
   "display_name": "Python 3",
   "language": "python",
   "name": "python3"
  },
  "language_info": {
   "codemirror_mode": {
    "name": "ipython",
    "version": 2
   },
   "file_extension": ".py",
   "mimetype": "text/x-python",
   "name": "python",
   "nbconvert_exporter": "python",
   "pygments_lexer": "ipython2",
   "version": "2.7.6"
  }
 },
 "nbformat": 4,
 "nbformat_minor": 0
}