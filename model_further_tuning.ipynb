{
 "cells": [
  {
   "cell_type": "markdown",
   "source": [
    "_Based on our previous training data, we determined that the Naive Bayes and Decision Tree were the top performing models. Here, we seek to further tune the model parameters to see if we can achieve a higher metric._\n"
   ],
   "metadata": {
    "collapsed": false,
    "pycharm": {
     "name": "#%% md\n"
    }
   }
  },
  {
   "cell_type": "markdown",
   "source": [
    "# Imports and Dependencies"
   ],
   "metadata": {
    "collapsed": false,
    "pycharm": {
     "name": "#%% md\n"
    }
   }
  },
  {
   "cell_type": "code",
   "execution_count": 3,
   "metadata": {
    "collapsed": true,
    "pycharm": {
     "name": "#%%\n"
    }
   },
   "outputs": [],
   "source": [
    "import pandas as pd\n",
    "import os\n",
    "\n",
    "from sklearn.model_selection import GridSearchCV\n",
    "from sklearn.metrics import make_scorer\n",
    "\n",
    "from sklearn.linear_model import LogisticRegression\n",
    "from sklearn.ensemble import RandomForestClassifier\n",
    "import xgboost as xgb\n",
    "from sklearn.naive_bayes import GaussianNB\n",
    "from sklearn.tree import DecisionTreeClassifier\n",
    "from sklearn import svm\n",
    "\n",
    "from helper_functions import custom_metric, calculate_metrics"
   ]
  },
  {
   "cell_type": "code",
   "execution_count": 4,
   "outputs": [],
   "source": [
    "# Folder containing the CSV files\n",
    "folder_path = 'split_data/'\n",
    "\n",
    "# Access the loaded DataFrames\n",
    "X_ND_train = pd.read_csv(os.path.join(folder_path, \"X_ND_train.csv\"))\n",
    "X_DD_train = pd.read_csv(os.path.join(folder_path, \"X_DD_train.csv\"))\n",
    "X_ND_val = pd.read_csv(os.path.join(folder_path, \"X_ND_val.csv\"))\n",
    "X_DD_val = pd.read_csv(os.path.join(folder_path, \"X_DD_val.csv\"))\n",
    "y_train = pd.read_csv(os.path.join(folder_path, \"y_train.csv\")).squeeze(\"columns\")\n",
    "y_val = pd.read_csv(os.path.join(folder_path, \"y_val.csv\")).squeeze(\"columns\")"
   ],
   "metadata": {
    "collapsed": false,
    "pycharm": {
     "name": "#%%\n"
    }
   }
  },
  {
   "cell_type": "code",
   "execution_count": 5,
   "outputs": [],
   "source": [
    "custom_scorer = make_scorer(custom_metric, greater_is_better=True, custom_weight=0.7)\n",
    "dd_results = {}\n",
    "nd_results = {}"
   ],
   "metadata": {
    "collapsed": false,
    "pycharm": {
     "name": "#%%\n"
    }
   }
  },
  {
   "cell_type": "markdown",
   "source": [
    "# Decision Tree"
   ],
   "metadata": {
    "collapsed": false,
    "pycharm": {
     "name": "#%% md\n"
    }
   }
  },
  {
   "cell_type": "code",
   "execution_count": 6,
   "outputs": [
    {
     "name": "stdout",
     "output_type": "stream",
     "text": [
      "Best Hyperparameters: {'criterion': 'entropy', 'max_depth': 10, 'max_features': 'log2', 'min_samples_leaf': 2, 'min_samples_split': 10}\n",
      "{'Accuracy': 0.5884743258219431, 'Precision': 0.5750595710881652, 'Recall': 0.555640828856485, 'Score': 0.5614664515259891}\n",
      "33.2 s ± 0 ns per loop (mean ± std. dev. of 1 run, 1 loop each)\n"
     ]
    }
   ],
   "source": [
    "%%timeit -n 1 -r 1\n",
    "# Discriminatory Data\n",
    "\n",
    "# Define the parameter grid for hyperparameter tuning\n",
    "decisiontree_dd_param_grid = {\n",
    "    'criterion': ['gini', 'entropy'],\n",
    "    'max_depth': [None, 5, 10, 15, 20],\n",
    "    'min_samples_split': [2, 5, 10, 20],\n",
    "    'min_samples_leaf': [1, 2, 4, 8],\n",
    "    'max_features': [None, 'sqrt', 'log2']\n",
    "}\n",
    "\n",
    "# Perform grid search using cross-validation\n",
    "decisiontree_dd_grid_search = GridSearchCV(estimator=DecisionTreeClassifier(random_state=5),\n",
    "                                           param_grid=decisiontree_dd_param_grid, cv=5, n_jobs=-1)\n",
    "decisiontree_dd_grid_search.fit(X_DD_train, y_train)\n",
    "\n",
    "# Best model and estimator\n",
    "decisiontree_dd = decisiontree_dd_grid_search.best_estimator_\n",
    "print(f\"Best Hyperparameters: {decisiontree_dd_grid_search.best_params_}\")\n",
    "\n",
    "decisiontree_dd_val_pred = decisiontree_dd.predict(X_DD_val)\n",
    "dd_results['Decision Tree'] = calculate_metrics(y_val, decisiontree_dd_val_pred)"
   ],
   "metadata": {
    "collapsed": false,
    "pycharm": {
     "name": "#%%\n"
    }
   }
  },
  {
   "cell_type": "code",
   "execution_count": 7,
   "outputs": [
    {
     "name": "stdout",
     "output_type": "stream",
     "text": [
      "Best Hyperparameters: {'criterion': 'entropy', 'max_depth': 10, 'max_features': None, 'min_samples_leaf': 2, 'min_samples_split': 20}\n",
      "{'Accuracy': 0.5838566678980421, 'Precision': 0.5627444009953786, 'Recall': 0.6074443591711435, 'Score': 0.594034371718414}\n",
      "19.1 s ± 0 ns per loop (mean ± std. dev. of 1 run, 1 loop each)\n"
     ]
    }
   ],
   "source": [
    "%%timeit -n 1 -r 1\n",
    "# Non Discriminatory Data\n",
    "\n",
    "# Define the parameter grid for hyperparameter tuning\n",
    "decisiontree_nd_param_grid = {\n",
    "    'criterion': ['gini', 'entropy'],\n",
    "    'max_depth': [None, 5, 10, 15, 20],\n",
    "    'min_samples_split': [2, 5, 10, 20],\n",
    "    'min_samples_leaf': [1, 2, 4, 8],\n",
    "    'max_features': [None, 'sqrt', 'log2']\n",
    "}\n",
    "\n",
    "# Perform grid search using cross-validation\n",
    "decisiontree_nd_grid_search = GridSearchCV(estimator=DecisionTreeClassifier(random_state=5),\n",
    "                                           param_grid=decisiontree_nd_param_grid, cv=5, n_jobs=-1)\n",
    "decisiontree_nd_grid_search.fit(X_ND_train, y_train)\n",
    "\n",
    "# Best model and estimator\n",
    "decisiontree_nd = decisiontree_nd_grid_search.best_estimator_\n",
    "print(f\"Best Hyperparameters: {decisiontree_nd_grid_search.best_params_}\")\n",
    "\n",
    "decisiontree_nd_val_pred = decisiontree_nd.predict(X_ND_val)\n",
    "nd_results['Decision Tree'] = calculate_metrics(y_val, decisiontree_nd_val_pred)"
   ],
   "metadata": {
    "collapsed": false,
    "pycharm": {
     "name": "#%%\n"
    }
   }
  },
  {
   "cell_type": "code",
   "execution_count": 7,
   "outputs": [],
   "source": [],
   "metadata": {
    "collapsed": false,
    "pycharm": {
     "name": "#%%\n"
    }
   }
  },
  {
   "cell_type": "code",
   "execution_count": 7,
   "outputs": [],
   "source": [],
   "metadata": {
    "collapsed": false,
    "pycharm": {
     "name": "#%%\n"
    }
   }
  },
  {
   "cell_type": "markdown",
   "source": [],
   "metadata": {
    "collapsed": false,
    "pycharm": {
     "name": "#%% md\n"
    }
   }
  }
 ],
 "metadata": {
  "kernelspec": {
   "display_name": "Python 3",
   "language": "python",
   "name": "python3"
  },
  "language_info": {
   "codemirror_mode": {
    "name": "ipython",
    "version": 2
   },
   "file_extension": ".py",
   "mimetype": "text/x-python",
   "name": "python",
   "nbconvert_exporter": "python",
   "pygments_lexer": "ipython2",
   "version": "2.7.6"
  }
 },
 "nbformat": 4,
 "nbformat_minor": 0
}